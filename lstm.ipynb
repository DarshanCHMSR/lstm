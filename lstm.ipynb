{
 "cells": [
  {
   "cell_type": "code",
   "execution_count": 7,
   "id": "eac43e58",
   "metadata": {},
   "outputs": [],
   "source": [
    "import warnings \n",
    "warnings.filterwarnings(\"ignore\")\n",
    "from datetime import datetime"
   ]
  },
  {
   "cell_type": "code",
   "execution_count": 8,
   "id": "6e76403a",
   "metadata": {},
   "outputs": [],
   "source": [
    "import numpy as np\n",
    "import pandas as pd\n",
    "import seaborn as sns\n",
    "import matplotlib.pyplot as plt\n",
    "import plotly.express as px "
   ]
  },
  {
   "cell_type": "code",
   "execution_count": 9,
   "id": "05e12588",
   "metadata": {},
   "outputs": [],
   "source": [
    "from sklearn.metrics import *\n",
    "import tensorflow as tf\n",
    "from keras.models import Sequential \n",
    "from keras.layers import Dense, LSTM\n",
    "from sklearn.preprocessing import MinMaxScaler\n",
    "from tensorflow.keras.preprocessing.sequence import TimeseriesGenerator"
   ]
  },
  {
   "cell_type": "code",
   "execution_count": 10,
   "id": "c6ca0670",
   "metadata": {},
   "outputs": [],
   "source": [
    "import yfinance as yf \n",
    "from yfinance import download\n",
    "from yfinance import Ticker\n",
    "data = yf.Ticker(\"AAPL\").history(period=\"1y\")"
   ]
  },
  {
   "cell_type": "code",
   "execution_count": 11,
   "id": "83f9b31f",
   "metadata": {},
   "outputs": [
    {
     "data": {
      "text/html": [
       "<div>\n",
       "<style scoped>\n",
       "    .dataframe tbody tr th:only-of-type {\n",
       "        vertical-align: middle;\n",
       "    }\n",
       "\n",
       "    .dataframe tbody tr th {\n",
       "        vertical-align: top;\n",
       "    }\n",
       "\n",
       "    .dataframe thead th {\n",
       "        text-align: right;\n",
       "    }\n",
       "</style>\n",
       "<table border=\"1\" class=\"dataframe\">\n",
       "  <thead>\n",
       "    <tr style=\"text-align: right;\">\n",
       "      <th></th>\n",
       "      <th>Open</th>\n",
       "      <th>High</th>\n",
       "      <th>Low</th>\n",
       "      <th>Close</th>\n",
       "      <th>Volume</th>\n",
       "      <th>Dividends</th>\n",
       "      <th>Stock Splits</th>\n",
       "    </tr>\n",
       "    <tr>\n",
       "      <th>Date</th>\n",
       "      <th></th>\n",
       "      <th></th>\n",
       "      <th></th>\n",
       "      <th></th>\n",
       "      <th></th>\n",
       "      <th></th>\n",
       "      <th></th>\n",
       "    </tr>\n",
       "  </thead>\n",
       "  <tbody>\n",
       "    <tr>\n",
       "      <th>2024-05-10 00:00:00-04:00</th>\n",
       "      <td>184.280638</td>\n",
       "      <td>184.470004</td>\n",
       "      <td>181.519927</td>\n",
       "      <td>182.436844</td>\n",
       "      <td>50759500</td>\n",
       "      <td>0.25</td>\n",
       "      <td>0.0</td>\n",
       "    </tr>\n",
       "    <tr>\n",
       "      <th>2024-05-13 00:00:00-04:00</th>\n",
       "      <td>184.818823</td>\n",
       "      <td>186.473266</td>\n",
       "      <td>184.001563</td>\n",
       "      <td>185.656006</td>\n",
       "      <td>72044800</td>\n",
       "      <td>0.00</td>\n",
       "      <td>0.0</td>\n",
       "    </tr>\n",
       "    <tr>\n",
       "      <th>2024-05-14 00:00:00-04:00</th>\n",
       "      <td>186.881904</td>\n",
       "      <td>187.669266</td>\n",
       "      <td>185.665989</td>\n",
       "      <td>186.802170</td>\n",
       "      <td>52393600</td>\n",
       "      <td>0.00</td>\n",
       "      <td>0.0</td>\n",
       "    </tr>\n",
       "    <tr>\n",
       "      <th>2024-05-15 00:00:00-04:00</th>\n",
       "      <td>187.280568</td>\n",
       "      <td>190.011381</td>\n",
       "      <td>186.742369</td>\n",
       "      <td>189.084503</td>\n",
       "      <td>70400000</td>\n",
       "      <td>0.00</td>\n",
       "      <td>0.0</td>\n",
       "    </tr>\n",
       "    <tr>\n",
       "      <th>2024-05-16 00:00:00-04:00</th>\n",
       "      <td>189.831996</td>\n",
       "      <td>190.459891</td>\n",
       "      <td>189.024712</td>\n",
       "      <td>189.204102</td>\n",
       "      <td>52845200</td>\n",
       "      <td>0.00</td>\n",
       "      <td>0.0</td>\n",
       "    </tr>\n",
       "    <tr>\n",
       "      <th>...</th>\n",
       "      <td>...</td>\n",
       "      <td>...</td>\n",
       "      <td>...</td>\n",
       "      <td>...</td>\n",
       "      <td>...</td>\n",
       "      <td>...</td>\n",
       "      <td>...</td>\n",
       "    </tr>\n",
       "    <tr>\n",
       "      <th>2025-05-05 00:00:00-04:00</th>\n",
       "      <td>203.100006</td>\n",
       "      <td>204.100006</td>\n",
       "      <td>198.210007</td>\n",
       "      <td>198.889999</td>\n",
       "      <td>69018500</td>\n",
       "      <td>0.00</td>\n",
       "      <td>0.0</td>\n",
       "    </tr>\n",
       "    <tr>\n",
       "      <th>2025-05-06 00:00:00-04:00</th>\n",
       "      <td>198.210007</td>\n",
       "      <td>200.649994</td>\n",
       "      <td>197.020004</td>\n",
       "      <td>198.509995</td>\n",
       "      <td>51216500</td>\n",
       "      <td>0.00</td>\n",
       "      <td>0.0</td>\n",
       "    </tr>\n",
       "    <tr>\n",
       "      <th>2025-05-07 00:00:00-04:00</th>\n",
       "      <td>199.169998</td>\n",
       "      <td>199.440002</td>\n",
       "      <td>193.250000</td>\n",
       "      <td>196.250000</td>\n",
       "      <td>68616900</td>\n",
       "      <td>0.00</td>\n",
       "      <td>0.0</td>\n",
       "    </tr>\n",
       "    <tr>\n",
       "      <th>2025-05-08 00:00:00-04:00</th>\n",
       "      <td>197.720001</td>\n",
       "      <td>200.050003</td>\n",
       "      <td>194.679993</td>\n",
       "      <td>197.490005</td>\n",
       "      <td>50478900</td>\n",
       "      <td>0.00</td>\n",
       "      <td>0.0</td>\n",
       "    </tr>\n",
       "    <tr>\n",
       "      <th>2025-05-09 00:00:00-04:00</th>\n",
       "      <td>199.000000</td>\n",
       "      <td>200.539993</td>\n",
       "      <td>197.539993</td>\n",
       "      <td>198.529999</td>\n",
       "      <td>36415700</td>\n",
       "      <td>0.00</td>\n",
       "      <td>0.0</td>\n",
       "    </tr>\n",
       "  </tbody>\n",
       "</table>\n",
       "<p>250 rows × 7 columns</p>\n",
       "</div>"
      ],
      "text/plain": [
       "                                 Open        High         Low       Close  \\\n",
       "Date                                                                        \n",
       "2024-05-10 00:00:00-04:00  184.280638  184.470004  181.519927  182.436844   \n",
       "2024-05-13 00:00:00-04:00  184.818823  186.473266  184.001563  185.656006   \n",
       "2024-05-14 00:00:00-04:00  186.881904  187.669266  185.665989  186.802170   \n",
       "2024-05-15 00:00:00-04:00  187.280568  190.011381  186.742369  189.084503   \n",
       "2024-05-16 00:00:00-04:00  189.831996  190.459891  189.024712  189.204102   \n",
       "...                               ...         ...         ...         ...   \n",
       "2025-05-05 00:00:00-04:00  203.100006  204.100006  198.210007  198.889999   \n",
       "2025-05-06 00:00:00-04:00  198.210007  200.649994  197.020004  198.509995   \n",
       "2025-05-07 00:00:00-04:00  199.169998  199.440002  193.250000  196.250000   \n",
       "2025-05-08 00:00:00-04:00  197.720001  200.050003  194.679993  197.490005   \n",
       "2025-05-09 00:00:00-04:00  199.000000  200.539993  197.539993  198.529999   \n",
       "\n",
       "                             Volume  Dividends  Stock Splits  \n",
       "Date                                                          \n",
       "2024-05-10 00:00:00-04:00  50759500       0.25           0.0  \n",
       "2024-05-13 00:00:00-04:00  72044800       0.00           0.0  \n",
       "2024-05-14 00:00:00-04:00  52393600       0.00           0.0  \n",
       "2024-05-15 00:00:00-04:00  70400000       0.00           0.0  \n",
       "2024-05-16 00:00:00-04:00  52845200       0.00           0.0  \n",
       "...                             ...        ...           ...  \n",
       "2025-05-05 00:00:00-04:00  69018500       0.00           0.0  \n",
       "2025-05-06 00:00:00-04:00  51216500       0.00           0.0  \n",
       "2025-05-07 00:00:00-04:00  68616900       0.00           0.0  \n",
       "2025-05-08 00:00:00-04:00  50478900       0.00           0.0  \n",
       "2025-05-09 00:00:00-04:00  36415700       0.00           0.0  \n",
       "\n",
       "[250 rows x 7 columns]"
      ]
     },
     "execution_count": 11,
     "metadata": {},
     "output_type": "execute_result"
    }
   ],
   "source": [
    "data"
   ]
  },
  {
   "cell_type": "code",
   "execution_count": 12,
   "id": "d59d0994",
   "metadata": {},
   "outputs": [
    {
     "data": {
      "text/plain": [
       "<bound method DataFrame.info of                                  Open        High         Low       Close  \\\n",
       "Date                                                                        \n",
       "2024-05-10 00:00:00-04:00  184.280638  184.470004  181.519927  182.436844   \n",
       "2024-05-13 00:00:00-04:00  184.818823  186.473266  184.001563  185.656006   \n",
       "2024-05-14 00:00:00-04:00  186.881904  187.669266  185.665989  186.802170   \n",
       "2024-05-15 00:00:00-04:00  187.280568  190.011381  186.742369  189.084503   \n",
       "2024-05-16 00:00:00-04:00  189.831996  190.459891  189.024712  189.204102   \n",
       "...                               ...         ...         ...         ...   \n",
       "2025-05-05 00:00:00-04:00  203.100006  204.100006  198.210007  198.889999   \n",
       "2025-05-06 00:00:00-04:00  198.210007  200.649994  197.020004  198.509995   \n",
       "2025-05-07 00:00:00-04:00  199.169998  199.440002  193.250000  196.250000   \n",
       "2025-05-08 00:00:00-04:00  197.720001  200.050003  194.679993  197.490005   \n",
       "2025-05-09 00:00:00-04:00  199.000000  200.539993  197.539993  198.529999   \n",
       "\n",
       "                             Volume  Dividends  Stock Splits  \n",
       "Date                                                          \n",
       "2024-05-10 00:00:00-04:00  50759500       0.25           0.0  \n",
       "2024-05-13 00:00:00-04:00  72044800       0.00           0.0  \n",
       "2024-05-14 00:00:00-04:00  52393600       0.00           0.0  \n",
       "2024-05-15 00:00:00-04:00  70400000       0.00           0.0  \n",
       "2024-05-16 00:00:00-04:00  52845200       0.00           0.0  \n",
       "...                             ...        ...           ...  \n",
       "2025-05-05 00:00:00-04:00  69018500       0.00           0.0  \n",
       "2025-05-06 00:00:00-04:00  51216500       0.00           0.0  \n",
       "2025-05-07 00:00:00-04:00  68616900       0.00           0.0  \n",
       "2025-05-08 00:00:00-04:00  50478900       0.00           0.0  \n",
       "2025-05-09 00:00:00-04:00  36415700       0.00           0.0  \n",
       "\n",
       "[250 rows x 7 columns]>"
      ]
     },
     "execution_count": 12,
     "metadata": {},
     "output_type": "execute_result"
    }
   ],
   "source": [
    "data.info\n"
   ]
  },
  {
   "cell_type": "code",
   "execution_count": 13,
   "id": "5230842c",
   "metadata": {},
   "outputs": [],
   "source": [
    "current_data = datetime.now()"
   ]
  },
  {
   "cell_type": "code",
   "execution_count": 14,
   "id": "b33b9f76",
   "metadata": {},
   "outputs": [],
   "source": [
    "start_time = datetime(current_data.year-1, current_data.month, current_data.day - 1) "
   ]
  },
  {
   "cell_type": "code",
   "execution_count": 15,
   "id": "5b5d7d43",
   "metadata": {},
   "outputs": [
    {
     "data": {
      "text/plain": [
       "datetime.datetime(2025, 5, 10, 16, 32, 48, 142945)"
      ]
     },
     "execution_count": 15,
     "metadata": {},
     "output_type": "execute_result"
    }
   ],
   "source": [
    "current_data"
   ]
  },
  {
   "cell_type": "code",
   "execution_count": 16,
   "id": "c7b76627",
   "metadata": {},
   "outputs": [
    {
     "name": "stdout",
     "output_type": "stream",
     "text": [
      "YF.download() has changed argument auto_adjust default to True\n"
     ]
    },
    {
     "name": "stderr",
     "output_type": "stream",
     "text": [
      "[*********************100%***********************]  1 of 1 completed\n"
     ]
    }
   ],
   "source": [
    "data = yf.download(\"AAPL\",start=start_time, end=current_data)"
   ]
  },
  {
   "cell_type": "code",
   "execution_count": 20,
   "id": "2a445e44",
   "metadata": {},
   "outputs": [
    {
     "name": "stdout",
     "output_type": "stream",
     "text": [
      "<class 'pandas.core.frame.DataFrame'>\n",
      "DatetimeIndex: 251 entries, 2024-05-09 to 2025-05-09\n",
      "Data columns (total 5 columns):\n",
      " #   Column          Non-Null Count  Dtype  \n",
      "---  ------          --------------  -----  \n",
      " 0   (Close, AAPL)   251 non-null    float64\n",
      " 1   (High, AAPL)    251 non-null    float64\n",
      " 2   (Low, AAPL)     251 non-null    float64\n",
      " 3   (Open, AAPL)    251 non-null    float64\n",
      " 4   (Volume, AAPL)  251 non-null    int64  \n",
      "dtypes: float64(4), int64(1)\n",
      "memory usage: 11.8 KB\n"
     ]
    }
   ],
   "source": [
    "data.info()"
   ]
  },
  {
   "cell_type": "code",
   "execution_count": 21,
   "id": "c24d5a67",
   "metadata": {},
   "outputs": [
    {
     "data": {
      "text/html": [
       "<div>\n",
       "<style scoped>\n",
       "    .dataframe tbody tr th:only-of-type {\n",
       "        vertical-align: middle;\n",
       "    }\n",
       "\n",
       "    .dataframe tbody tr th {\n",
       "        vertical-align: top;\n",
       "    }\n",
       "\n",
       "    .dataframe thead tr th {\n",
       "        text-align: left;\n",
       "    }\n",
       "</style>\n",
       "<table border=\"1\" class=\"dataframe\">\n",
       "  <thead>\n",
       "    <tr>\n",
       "      <th>Price</th>\n",
       "      <th>Close</th>\n",
       "      <th>High</th>\n",
       "      <th>Low</th>\n",
       "      <th>Open</th>\n",
       "      <th>Volume</th>\n",
       "    </tr>\n",
       "    <tr>\n",
       "      <th>Ticker</th>\n",
       "      <th>AAPL</th>\n",
       "      <th>AAPL</th>\n",
       "      <th>AAPL</th>\n",
       "      <th>AAPL</th>\n",
       "      <th>AAPL</th>\n",
       "    </tr>\n",
       "  </thead>\n",
       "  <tbody>\n",
       "    <tr>\n",
       "      <th>count</th>\n",
       "      <td>251.000000</td>\n",
       "      <td>251.000000</td>\n",
       "      <td>251.000000</td>\n",
       "      <td>251.000000</td>\n",
       "      <td>2.510000e+02</td>\n",
       "    </tr>\n",
       "    <tr>\n",
       "      <th>mean</th>\n",
       "      <td>222.157352</td>\n",
       "      <td>224.410469</td>\n",
       "      <td>219.494984</td>\n",
       "      <td>221.771013</td>\n",
       "      <td>5.608917e+07</td>\n",
       "    </tr>\n",
       "    <tr>\n",
       "      <th>std</th>\n",
       "      <td>17.023097</td>\n",
       "      <td>16.673224</td>\n",
       "      <td>17.295313</td>\n",
       "      <td>17.185929</td>\n",
       "      <td>3.238690e+07</td>\n",
       "    </tr>\n",
       "    <tr>\n",
       "      <th>min</th>\n",
       "      <td>172.419998</td>\n",
       "      <td>183.792164</td>\n",
       "      <td>169.210007</td>\n",
       "      <td>171.949997</td>\n",
       "      <td>2.323470e+07</td>\n",
       "    </tr>\n",
       "    <tr>\n",
       "      <th>25%</th>\n",
       "      <td>213.351425</td>\n",
       "      <td>215.283116</td>\n",
       "      <td>210.281114</td>\n",
       "      <td>212.894485</td>\n",
       "      <td>3.956285e+07</td>\n",
       "    </tr>\n",
       "    <tr>\n",
       "      <th>50%</th>\n",
       "      <td>224.256302</td>\n",
       "      <td>226.331875</td>\n",
       "      <td>222.515348</td>\n",
       "      <td>224.436039</td>\n",
       "      <td>4.807340e+07</td>\n",
       "    </tr>\n",
       "    <tr>\n",
       "      <th>75%</th>\n",
       "      <td>232.753716</td>\n",
       "      <td>234.517946</td>\n",
       "      <td>229.477700</td>\n",
       "      <td>232.697865</td>\n",
       "      <td>6.031885e+07</td>\n",
       "    </tr>\n",
       "    <tr>\n",
       "      <th>max</th>\n",
       "      <td>258.735504</td>\n",
       "      <td>259.814335</td>\n",
       "      <td>257.347047</td>\n",
       "      <td>257.906429</td>\n",
       "      <td>3.186799e+08</td>\n",
       "    </tr>\n",
       "  </tbody>\n",
       "</table>\n",
       "</div>"
      ],
      "text/plain": [
       "Price        Close        High         Low        Open        Volume\n",
       "Ticker        AAPL        AAPL        AAPL        AAPL          AAPL\n",
       "count   251.000000  251.000000  251.000000  251.000000  2.510000e+02\n",
       "mean    222.157352  224.410469  219.494984  221.771013  5.608917e+07\n",
       "std      17.023097   16.673224   17.295313   17.185929  3.238690e+07\n",
       "min     172.419998  183.792164  169.210007  171.949997  2.323470e+07\n",
       "25%     213.351425  215.283116  210.281114  212.894485  3.956285e+07\n",
       "50%     224.256302  226.331875  222.515348  224.436039  4.807340e+07\n",
       "75%     232.753716  234.517946  229.477700  232.697865  6.031885e+07\n",
       "max     258.735504  259.814335  257.347047  257.906429  3.186799e+08"
      ]
     },
     "execution_count": 21,
     "metadata": {},
     "output_type": "execute_result"
    }
   ],
   "source": [
    "data.describe()"
   ]
  },
  {
   "cell_type": "code",
   "execution_count": 22,
   "id": "e780c4a3",
   "metadata": {},
   "outputs": [
    {
     "data": {
      "text/plain": [
       "<seaborn.axisgrid.FacetGrid at 0x1f4953a00d0>"
      ]
     },
     "execution_count": 22,
     "metadata": {},
     "output_type": "execute_result"
    },
    {
     "data": {
      "image/png": "[encoded data removed]",
      "text/plain": [
       "<Figure size 585.5x500 with 1 Axes>"
      ]
     },
     "metadata": {},
     "output_type": "display_data"
    }
   ],
   "source": [
    "sns.displot(data[\"Close\"])"
   ]
  },
  {
   "cell_type": "code",
   "execution_count": 23,
   "id": "56d8533a",
   "metadata": {},
   "outputs": [
    {
     "data": {
      "image/png": "[encoded data removed]",
      "text/plain": [
       "<Figure size 1500x600 with 1 Axes>"
      ]
     },
     "metadata": {},
     "output_type": "display_data"
    }
   ],
   "source": [
    "plt.figure(figsize=(15,6))\n",
    "plt.plot(data.Close,color=\"red\")\n",
    "plt.title(\"closing Price\")\n",
    "plt.xlabel(\"Date of the stock\")\n",
    "plt.ylabel(\"Price\")\n",
    "plt.show()"
   ]
  },
  {
   "cell_type": "code",
   "execution_count": 24,
   "id": "50aa04b5",
   "metadata": {},
   "outputs": [
    {
     "data": {
      "image/png": "[encoded data removed]",
      "text/plain": [
       "<Figure size 1500x600 with 1 Axes>"
      ]
     },
     "metadata": {},
     "output_type": "display_data"
    }
   ],
   "source": [
    "plt.figure(figsize=(15,6))\n",
    "plt.plot(data[\"Volume\"],color=\"blue\")\n",
    "plt.title(\"Volume\")\n",
    "plt.xlabel(\"Date of the stock\") \n",
    "plt.ylabel(\"Volume\")\n",
    "plt.show()"
   ]
  },
  {
   "cell_type": "code",
   "execution_count": 26,
   "id": "a68ec705",
   "metadata": {},
   "outputs": [],
   "source": [
    "moving_average = [10,20,50]\n",
    "for x in moving_average:\n",
    "    column_name = f\"MA_{x} for {x } days\"\n",
    "    data[column_name] = data[\"Close\"].rolling(x).mean()\n"
   ]
  },
  {
   "cell_type": "code",
   "execution_count": 34,
   "id": "548a9eda",
   "metadata": {},
   "outputs": [
    {
     "data": {
      "text/html": [
       "<div>\n",
       "<style scoped>\n",
       "    .dataframe tbody tr th:only-of-type {\n",
       "        vertical-align: middle;\n",
       "    }\n",
       "\n",
       "    .dataframe tbody tr th {\n",
       "        vertical-align: top;\n",
       "    }\n",
       "\n",
       "    .dataframe thead tr th {\n",
       "        text-align: left;\n",
       "    }\n",
       "\n",
       "    .dataframe thead tr:last-of-type th {\n",
       "        text-align: right;\n",
       "    }\n",
       "</style>\n",
       "<table border=\"1\" class=\"dataframe\">\n",
       "  <thead>\n",
       "    <tr>\n",
       "      <th>Price</th>\n",
       "      <th>Close</th>\n",
       "      <th>High</th>\n",
       "      <th>Low</th>\n",
       "      <th>Open</th>\n",
       "      <th>Volume</th>\n",
       "      <th>MA_10 for 10 days</th>\n",
       "      <th>MA_20 for 20 days</th>\n",
       "      <th>MA_50 for 50 days</th>\n",
       "    </tr>\n",
       "    <tr>\n",
       "      <th>Ticker</th>\n",
       "      <th>AAPL</th>\n",
       "      <th>AAPL</th>\n",
       "      <th>AAPL</th>\n",
       "      <th>AAPL</th>\n",
       "      <th>AAPL</th>\n",
       "      <th></th>\n",
       "      <th></th>\n",
       "      <th></th>\n",
       "    </tr>\n",
       "    <tr>\n",
       "      <th>Date</th>\n",
       "      <th></th>\n",
       "      <th></th>\n",
       "      <th></th>\n",
       "      <th></th>\n",
       "      <th></th>\n",
       "      <th></th>\n",
       "      <th></th>\n",
       "      <th></th>\n",
       "    </tr>\n",
       "  </thead>\n",
       "  <tbody>\n",
       "    <tr>\n",
       "      <th>2024-05-09</th>\n",
       "      <td>183.702591</td>\n",
       "      <td>183.792164</td>\n",
       "      <td>181.254145</td>\n",
       "      <td>181.702028</td>\n",
       "      <td>48983000</td>\n",
       "      <td>NaN</td>\n",
       "      <td>NaN</td>\n",
       "      <td>NaN</td>\n",
       "    </tr>\n",
       "    <tr>\n",
       "      <th>2024-05-10</th>\n",
       "      <td>182.436859</td>\n",
       "      <td>184.470019</td>\n",
       "      <td>181.519943</td>\n",
       "      <td>184.280653</td>\n",
       "      <td>50759500</td>\n",
       "      <td>NaN</td>\n",
       "      <td>NaN</td>\n",
       "      <td>NaN</td>\n",
       "    </tr>\n",
       "    <tr>\n",
       "      <th>2024-05-13</th>\n",
       "      <td>185.656021</td>\n",
       "      <td>186.473282</td>\n",
       "      <td>184.001578</td>\n",
       "      <td>184.818838</td>\n",
       "      <td>72044800</td>\n",
       "      <td>NaN</td>\n",
       "      <td>NaN</td>\n",
       "      <td>NaN</td>\n",
       "    </tr>\n",
       "    <tr>\n",
       "      <th>2024-05-14</th>\n",
       "      <td>186.802155</td>\n",
       "      <td>187.669251</td>\n",
       "      <td>185.665974</td>\n",
       "      <td>186.881888</td>\n",
       "      <td>52393600</td>\n",
       "      <td>NaN</td>\n",
       "      <td>NaN</td>\n",
       "      <td>NaN</td>\n",
       "    </tr>\n",
       "    <tr>\n",
       "      <th>2024-05-15</th>\n",
       "      <td>189.084518</td>\n",
       "      <td>190.011396</td>\n",
       "      <td>186.742384</td>\n",
       "      <td>187.280584</td>\n",
       "      <td>70400000</td>\n",
       "      <td>NaN</td>\n",
       "      <td>NaN</td>\n",
       "      <td>NaN</td>\n",
       "    </tr>\n",
       "    <tr>\n",
       "      <th>...</th>\n",
       "      <td>...</td>\n",
       "      <td>...</td>\n",
       "      <td>...</td>\n",
       "      <td>...</td>\n",
       "      <td>...</td>\n",
       "      <td>...</td>\n",
       "      <td>...</td>\n",
       "      <td>...</td>\n",
       "    </tr>\n",
       "    <tr>\n",
       "      <th>2025-05-05</th>\n",
       "      <td>198.889999</td>\n",
       "      <td>204.100006</td>\n",
       "      <td>198.210007</td>\n",
       "      <td>203.100006</td>\n",
       "      <td>69018500</td>\n",
       "      <td>NaN</td>\n",
       "      <td>NaN</td>\n",
       "      <td>NaN</td>\n",
       "    </tr>\n",
       "    <tr>\n",
       "      <th>2025-05-06</th>\n",
       "      <td>198.509995</td>\n",
       "      <td>200.649994</td>\n",
       "      <td>197.020004</td>\n",
       "      <td>198.210007</td>\n",
       "      <td>51216500</td>\n",
       "      <td>NaN</td>\n",
       "      <td>NaN</td>\n",
       "      <td>NaN</td>\n",
       "    </tr>\n",
       "    <tr>\n",
       "      <th>2025-05-07</th>\n",
       "      <td>196.250000</td>\n",
       "      <td>199.440002</td>\n",
       "      <td>193.250000</td>\n",
       "      <td>199.169998</td>\n",
       "      <td>68616900</td>\n",
       "      <td>NaN</td>\n",
       "      <td>NaN</td>\n",
       "      <td>NaN</td>\n",
       "    </tr>\n",
       "    <tr>\n",
       "      <th>2025-05-08</th>\n",
       "      <td>197.490005</td>\n",
       "      <td>200.050003</td>\n",
       "      <td>194.679993</td>\n",
       "      <td>197.720001</td>\n",
       "      <td>50478900</td>\n",
       "      <td>NaN</td>\n",
       "      <td>NaN</td>\n",
       "      <td>NaN</td>\n",
       "    </tr>\n",
       "    <tr>\n",
       "      <th>2025-05-09</th>\n",
       "      <td>198.529999</td>\n",
       "      <td>200.539993</td>\n",
       "      <td>197.539993</td>\n",
       "      <td>199.000000</td>\n",
       "      <td>36415700</td>\n",
       "      <td>NaN</td>\n",
       "      <td>NaN</td>\n",
       "      <td>NaN</td>\n",
       "    </tr>\n",
       "  </tbody>\n",
       "</table>\n",
       "<p>251 rows × 8 columns</p>\n",
       "</div>"
      ],
      "text/plain": [
       "Price            Close        High         Low        Open    Volume  \\\n",
       "Ticker            AAPL        AAPL        AAPL        AAPL      AAPL   \n",
       "Date                                                                   \n",
       "2024-05-09  183.702591  183.792164  181.254145  181.702028  48983000   \n",
       "2024-05-10  182.436859  184.470019  181.519943  184.280653  50759500   \n",
       "2024-05-13  185.656021  186.473282  184.001578  184.818838  72044800   \n",
       "2024-05-14  186.802155  187.669251  185.665974  186.881888  52393600   \n",
       "2024-05-15  189.084518  190.011396  186.742384  187.280584  70400000   \n",
       "...                ...         ...         ...         ...       ...   \n",
       "2025-05-05  198.889999  204.100006  198.210007  203.100006  69018500   \n",
       "2025-05-06  198.509995  200.649994  197.020004  198.210007  51216500   \n",
       "2025-05-07  196.250000  199.440002  193.250000  199.169998  68616900   \n",
       "2025-05-08  197.490005  200.050003  194.679993  197.720001  50478900   \n",
       "2025-05-09  198.529999  200.539993  197.539993  199.000000  36415700   \n",
       "\n",
       "Price      MA_10 for 10 days MA_20 for 20 days MA_50 for 50 days  \n",
       "Ticker                                                            \n",
       "Date                                                              \n",
       "2024-05-09               NaN               NaN               NaN  \n",
       "2024-05-10               NaN               NaN               NaN  \n",
       "2024-05-13               NaN               NaN               NaN  \n",
       "2024-05-14               NaN               NaN               NaN  \n",
       "2024-05-15               NaN               NaN               NaN  \n",
       "...                      ...               ...               ...  \n",
       "2025-05-05               NaN               NaN               NaN  \n",
       "2025-05-06               NaN               NaN               NaN  \n",
       "2025-05-07               NaN               NaN               NaN  \n",
       "2025-05-08               NaN               NaN               NaN  \n",
       "2025-05-09               NaN               NaN               NaN  \n",
       "\n",
       "[251 rows x 8 columns]"
      ]
     },
     "execution_count": 34,
     "metadata": {},
     "output_type": "execute_result"
    }
   ],
   "source": [
    "data"
   ]
  },
  {
   "cell_type": "code",
   "execution_count": 27,
   "id": "ee6d4af7",
   "metadata": {},
   "outputs": [
    {
     "data": {
      "text/plain": [
       "Price              Ticker\n",
       "Close              AAPL        0\n",
       "High               AAPL        0\n",
       "Low                AAPL        0\n",
       "Open               AAPL        0\n",
       "Volume             AAPL        0\n",
       "MA_10 for 10 days            251\n",
       "MA_20 for 20 days            251\n",
       "MA_50 for 50 days            251\n",
       "dtype: int64"
      ]
     },
     "execution_count": 27,
     "metadata": {},
     "output_type": "execute_result"
    }
   ],
   "source": [
    "# Check for missing values\n",
    "data.isnull().sum()"
   ]
  },
  {
   "cell_type": "code",
   "execution_count": 28,
   "id": "044d6abe",
   "metadata": {},
   "outputs": [],
   "source": [
    "# Normalize the data\n",
    "scaler = MinMaxScaler(feature_range=(0, 1))\n",
    "scaled_data = scaler.fit_transform(data[['Close']])"
   ]
  },
  {
   "cell_type": "code",
   "execution_count": 29,
   "id": "89b33e81",
   "metadata": {},
   "outputs": [],
   "source": [
    "# Split the data into training and testing sets\n",
    "train_size = int(len(scaled_data) * 0.8)\n",
    "train_data = scaled_data[:train_size]\n",
    "test_data = scaled_data[train_size:]"
   ]
  },
  {
   "cell_type": "code",
   "execution_count": 30,
   "id": "94810933",
   "metadata": {},
   "outputs": [],
   "source": [
    "# Create sequences for LSTM\n",
    "sequence_length = 60\n",
    "generator = TimeseriesGenerator(train_data, train_data, length=sequence_length, batch_size=32)"
   ]
  },
  {
   "cell_type": "code",
   "execution_count": 31,
   "id": "218b0b3d",
   "metadata": {},
   "outputs": [],
   "source": [
    "# Define the LSTM model\n",
    "model = Sequential([\n",
    "    LSTM(50, return_sequences=True, input_shape=(sequence_length, 1)),\n",
    "    LSTM(50, return_sequences=False),\n",
    "    Dense(25),\n",
    "    Dense(1)\n",
    "])\n",
    "model.compile(optimizer='adam', loss='mean_squared_error')"
   ]
  },
  {
   "cell_type": "code",
   "execution_count": 32,
   "id": "6126d587",
   "metadata": {},
   "outputs": [
    {
     "name": "stdout",
     "output_type": "stream",
     "text": [
      "Epoch 1/10\n",
      "\u001b[1m5/5\u001b[0m \u001b[32m━━━━━━━━━━━━━━━━━━━━\u001b[0m\u001b[37m\u001b[0m \u001b[1m7s\u001b[0m 67ms/step - loss: 0.2791\n",
      "Epoch 2/10\n",
      "\u001b[1m5/5\u001b[0m \u001b[32m━━━━━━━━━━━━━━━━━━━━\u001b[0m\u001b[37m\u001b[0m \u001b[1m0s\u001b[0m 49ms/step - loss: 0.0325\n",
      "Epoch 3/10\n",
      "\u001b[1m5/5\u001b[0m \u001b[32m━━━━━━━━━━━━━━━━━━━━\u001b[0m\u001b[37m\u001b[0m \u001b[1m0s\u001b[0m 54ms/step - loss: 0.0528\n",
      "Epoch 4/10\n",
      "\u001b[1m5/5\u001b[0m \u001b[32m━━━━━━━━━━━━━━━━━━━━\u001b[0m\u001b[37m\u001b[0m \u001b[1m0s\u001b[0m 53ms/step - loss: 0.0208\n",
      "Epoch 5/10\n",
      "\u001b[1m5/5\u001b[0m \u001b[32m━━━━━━━━━━━━━━━━━━━━\u001b[0m\u001b[37m\u001b[0m \u001b[1m0s\u001b[0m 51ms/step - loss: 0.0177\n",
      "Epoch 6/10\n",
      "\u001b[1m5/5\u001b[0m \u001b[32m━━━━━━━━━━━━━━━━━━━━\u001b[0m\u001b[37m\u001b[0m \u001b[1m0s\u001b[0m 60ms/step - loss: 0.0099\n",
      "Epoch 7/10\n",
      "\u001b[1m5/5\u001b[0m \u001b[32m━━━━━━━━━━━━━━━━━━━━\u001b[0m\u001b[37m\u001b[0m \u001b[1m0s\u001b[0m 56ms/step - loss: 0.0111\n",
      "Epoch 8/10\n",
      "\u001b[1m5/5\u001b[0m \u001b[32m━━━━━━━━━━━━━━━━━━━━\u001b[0m\u001b[37m\u001b[0m \u001b[1m0s\u001b[0m 58ms/step - loss: 0.0112\n",
      "Epoch 9/10\n",
      "\u001b[1m5/5\u001b[0m \u001b[32m━━━━━━━━━━━━━━━━━━━━\u001b[0m\u001b[37m\u001b[0m \u001b[1m0s\u001b[0m 56ms/step - loss: 0.0066\n",
      "Epoch 10/10\n",
      "\u001b[1m5/5\u001b[0m \u001b[32m━━━━━━━━━━━━━━━━━━━━\u001b[0m\u001b[37m\u001b[0m \u001b[1m0s\u001b[0m 56ms/step - loss: 0.0076\n"
     ]
    },
    {
     "data": {
      "text/plain": [
       "<keras.src.callbacks.history.History at 0x1f495e68cd0>"
      ]
     },
     "execution_count": 32,
     "metadata": {},
     "output_type": "execute_result"
    }
   ],
   "source": [
    "# Train the model\n",
    "model.fit(generator, epochs=10)"
   ]
  },
  {
   "cell_type": "code",
   "execution_count": 33,
   "id": "9f68cb12",
   "metadata": {},
   "outputs": [
    {
     "ename": "ValueError",
     "evalue": "`start_index+length=60 > end_index=50` is disallowed, as no part of the sequence would be left to be used as current step.",
     "output_type": "error",
     "traceback": [
      "\u001b[31m---------------------------------------------------------------------------\u001b[39m",
      "\u001b[31mValueError\u001b[39m                                Traceback (most recent call last)",
      "\u001b[36mCell\u001b[39m\u001b[36m \u001b[39m\u001b[32mIn[33]\u001b[39m\u001b[32m, line 2\u001b[39m\n\u001b[32m      1\u001b[39m \u001b[38;5;66;03m# Evaluate the model\u001b[39;00m\n\u001b[32m----> \u001b[39m\u001b[32m2\u001b[39m test_generator = \u001b[43mTimeseriesGenerator\u001b[49m\u001b[43m(\u001b[49m\u001b[43mtest_data\u001b[49m\u001b[43m,\u001b[49m\u001b[43m \u001b[49m\u001b[43mtest_data\u001b[49m\u001b[43m,\u001b[49m\u001b[43m \u001b[49m\u001b[43mlength\u001b[49m\u001b[43m=\u001b[49m\u001b[43msequence_length\u001b[49m\u001b[43m,\u001b[49m\u001b[43m \u001b[49m\u001b[43mbatch_size\u001b[49m\u001b[43m=\u001b[49m\u001b[32;43m32\u001b[39;49m\u001b[43m)\u001b[49m\n\u001b[32m      3\u001b[39m predictions = model.predict(test_generator)\n",
      "\u001b[36mFile \u001b[39m\u001b[32mc:\\Users\\Darsh\\OneDrive\\Desktop\\data science\\lstm\\lstm\\Lib\\site-packages\\keras\\src\\legacy\\preprocessing\\sequence.py:89\u001b[39m, in \u001b[36mTimeseriesGenerator.__init__\u001b[39m\u001b[34m(self, data, targets, length, sampling_rate, stride, start_index, end_index, shuffle, reverse, batch_size)\u001b[39m\n\u001b[32m     86\u001b[39m \u001b[38;5;28mself\u001b[39m.batch_size = batch_size\n\u001b[32m     88\u001b[39m \u001b[38;5;28;01mif\u001b[39;00m \u001b[38;5;28mself\u001b[39m.start_index > \u001b[38;5;28mself\u001b[39m.end_index:\n\u001b[32m---> \u001b[39m\u001b[32m89\u001b[39m     \u001b[38;5;28;01mraise\u001b[39;00m \u001b[38;5;167;01mValueError\u001b[39;00m(\n\u001b[32m     90\u001b[39m         \u001b[33mf\u001b[39m\u001b[33m\"\u001b[39m\u001b[33m`start_index+length=\u001b[39m\u001b[38;5;132;01m{\u001b[39;00m\u001b[38;5;28mself\u001b[39m.start_index\u001b[38;5;132;01m}\u001b[39;00m\u001b[33m \u001b[39m\u001b[33m\"\u001b[39m\n\u001b[32m     91\u001b[39m         \u001b[33mf\u001b[39m\u001b[33m\"\u001b[39m\u001b[33m> end_index=\u001b[39m\u001b[38;5;132;01m{\u001b[39;00m\u001b[38;5;28mself\u001b[39m.end_index\u001b[38;5;132;01m}\u001b[39;00m\u001b[33m` \u001b[39m\u001b[33m\"\u001b[39m\n\u001b[32m     92\u001b[39m         \u001b[33m\"\u001b[39m\u001b[33mis disallowed, as no part of the sequence \u001b[39m\u001b[33m\"\u001b[39m\n\u001b[32m     93\u001b[39m         \u001b[33m\"\u001b[39m\u001b[33mwould be left to be used as current step.\u001b[39m\u001b[33m\"\u001b[39m\n\u001b[32m     94\u001b[39m     )\n",
      "\u001b[31mValueError\u001b[39m: `start_index+length=60 > end_index=50` is disallowed, as no part of the sequence would be left to be used as current step."
     ]
    }
   ],
   "source": [
    "# Evaluate the model\n",
    "test_generator = TimeseriesGenerator(test_data, test_data, length=sequence_length, batch_size=32)\n",
    "predictions = model.predict(test_generator)"
   ]
  },
  {
   "cell_type": "code",
   "execution_count": null,
   "id": "9c93ccd3",
   "metadata": {},
   "outputs": [],
   "source": [
    "# Visualize predictions\n",
    "plt.figure(figsize=(15,6))\n",
    "plt.plot(test_data[sequence_length:], label=\"Actual\")\n",
    "plt.plot(predictions, label=\"Predicted\")\n",
    "plt.legend()\n",
    "plt.show()"
   ]
  }
 ],
 "metadata": {
  "kernelspec": {
   "display_name": "lstm",
   "language": "python",
   "name": "python3"
  },
  "language_info": {
   "codemirror_mode": {
    "name": "ipython",
    "version": 3
   },
   "file_extension": ".py",
   "mimetype": "text/x-python",
   "name": "python",
   "nbconvert_exporter": "python",
   "pygments_lexer": "ipython3",
   "version": "3.11.9"
  }
 },
 "nbformat": 4,
 "nbformat_minor": 5
}
