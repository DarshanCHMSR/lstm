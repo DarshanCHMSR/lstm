{
 "cells": [
  {
   "cell_type": "code",
   "execution_count": 1,
   "id": "eac43e58",
   "metadata": {},
   "outputs": [],
   "source": [
    "import warnings \n",
    "warnings.filterwarnings(\"ignore\")\n",
    "from datetime import datetime"
   ]
  },
  {
   "cell_type": "code",
   "execution_count": 2,
   "id": "6e76403a",
   "metadata": {},
   "outputs": [],
   "source": [
    "import numpy as np\n",
    "import pandas as pd\n",
    "import seaborn as sns\n",
    "import matplotlib.pyplot as plt\n",
    "import plotly.express as px "
   ]
  },
  {
   "cell_type": "code",
   "execution_count": 3,
   "id": "05e12588",
   "metadata": {},
   "outputs": [],
   "source": [
    "from sklearn.metrics import *\n",
    "import tensorflow as tf\n",
    "from keras.models import Sequential \n",
    "from keras.layers import Dense, LSTM\n",
    "from sklearn.preprocessing import MinMaxScaler\n",
    "from tensorflow.keras.preprocessing.sequence import TimeseriesGenerator"
   ]
  },
  {
   "cell_type": "code",
   "execution_count": 4,
   "id": "c6ca0670",
   "metadata": {},
   "outputs": [],
   "source": [
    "import yfinance as yf \n",
    "from yfinance import download\n",
    "from yfinance import Ticker\n",
    "data = yf.Ticker(\"AAPL\").history(period=\"1y\")"
   ]
  },
  {
   "cell_type": "code",
   "execution_count": 5,
   "id": "83f9b31f",
   "metadata": {},
   "outputs": [
    {
     "data": {
      "text/html": [
       "<div>\n",
       "<style scoped>\n",
       "    .dataframe tbody tr th:only-of-type {\n",
       "        vertical-align: middle;\n",
       "    }\n",
       "\n",
       "    .dataframe tbody tr th {\n",
       "        vertical-align: top;\n",
       "    }\n",
       "\n",
       "    .dataframe thead th {\n",
       "        text-align: right;\n",
       "    }\n",
       "</style>\n",
       "<table border=\"1\" class=\"dataframe\">\n",
       "  <thead>\n",
       "    <tr style=\"text-align: right;\">\n",
       "      <th></th>\n",
       "      <th>Open</th>\n",
       "      <th>High</th>\n",
       "      <th>Low</th>\n",
       "      <th>Close</th>\n",
       "      <th>Volume</th>\n",
       "      <th>Dividends</th>\n",
       "      <th>Stock Splits</th>\n",
       "    </tr>\n",
       "    <tr>\n",
       "      <th>Date</th>\n",
       "      <th></th>\n",
       "      <th></th>\n",
       "      <th></th>\n",
       "      <th></th>\n",
       "      <th></th>\n",
       "      <th></th>\n",
       "      <th></th>\n",
       "    </tr>\n",
       "  </thead>\n",
       "  <tbody>\n",
       "    <tr>\n",
       "      <th>2024-05-10 00:00:00-04:00</th>\n",
       "      <td>184.280638</td>\n",
       "      <td>184.470004</td>\n",
       "      <td>181.519927</td>\n",
       "      <td>182.436844</td>\n",
       "      <td>50759500</td>\n",
       "      <td>0.25</td>\n",
       "      <td>0.0</td>\n",
       "    </tr>\n",
       "    <tr>\n",
       "      <th>2024-05-13 00:00:00-04:00</th>\n",
       "      <td>184.818854</td>\n",
       "      <td>186.473297</td>\n",
       "      <td>184.001593</td>\n",
       "      <td>185.656036</td>\n",
       "      <td>72044800</td>\n",
       "      <td>0.00</td>\n",
       "      <td>0.0</td>\n",
       "    </tr>\n",
       "    <tr>\n",
       "      <th>2024-05-14 00:00:00-04:00</th>\n",
       "      <td>186.881904</td>\n",
       "      <td>187.669266</td>\n",
       "      <td>185.665989</td>\n",
       "      <td>186.802170</td>\n",
       "      <td>52393600</td>\n",
       "      <td>0.00</td>\n",
       "      <td>0.0</td>\n",
       "    </tr>\n",
       "    <tr>\n",
       "      <th>2024-05-15 00:00:00-04:00</th>\n",
       "      <td>187.280568</td>\n",
       "      <td>190.011381</td>\n",
       "      <td>186.742369</td>\n",
       "      <td>189.084503</td>\n",
       "      <td>70400000</td>\n",
       "      <td>0.00</td>\n",
       "      <td>0.0</td>\n",
       "    </tr>\n",
       "    <tr>\n",
       "      <th>2024-05-16 00:00:00-04:00</th>\n",
       "      <td>189.831996</td>\n",
       "      <td>190.459891</td>\n",
       "      <td>189.024712</td>\n",
       "      <td>189.204102</td>\n",
       "      <td>52845200</td>\n",
       "      <td>0.00</td>\n",
       "      <td>0.0</td>\n",
       "    </tr>\n",
       "    <tr>\n",
       "      <th>...</th>\n",
       "      <td>...</td>\n",
       "      <td>...</td>\n",
       "      <td>...</td>\n",
       "      <td>...</td>\n",
       "      <td>...</td>\n",
       "      <td>...</td>\n",
       "      <td>...</td>\n",
       "    </tr>\n",
       "    <tr>\n",
       "      <th>2025-05-05 00:00:00-04:00</th>\n",
       "      <td>203.100006</td>\n",
       "      <td>204.100006</td>\n",
       "      <td>198.210007</td>\n",
       "      <td>198.889999</td>\n",
       "      <td>69018500</td>\n",
       "      <td>0.00</td>\n",
       "      <td>0.0</td>\n",
       "    </tr>\n",
       "    <tr>\n",
       "      <th>2025-05-06 00:00:00-04:00</th>\n",
       "      <td>198.210007</td>\n",
       "      <td>200.649994</td>\n",
       "      <td>197.020004</td>\n",
       "      <td>198.509995</td>\n",
       "      <td>51216500</td>\n",
       "      <td>0.00</td>\n",
       "      <td>0.0</td>\n",
       "    </tr>\n",
       "    <tr>\n",
       "      <th>2025-05-07 00:00:00-04:00</th>\n",
       "      <td>199.169998</td>\n",
       "      <td>199.440002</td>\n",
       "      <td>193.250000</td>\n",
       "      <td>196.250000</td>\n",
       "      <td>68616900</td>\n",
       "      <td>0.00</td>\n",
       "      <td>0.0</td>\n",
       "    </tr>\n",
       "    <tr>\n",
       "      <th>2025-05-08 00:00:00-04:00</th>\n",
       "      <td>197.720001</td>\n",
       "      <td>200.050003</td>\n",
       "      <td>194.679993</td>\n",
       "      <td>197.490005</td>\n",
       "      <td>50478900</td>\n",
       "      <td>0.00</td>\n",
       "      <td>0.0</td>\n",
       "    </tr>\n",
       "    <tr>\n",
       "      <th>2025-05-09 00:00:00-04:00</th>\n",
       "      <td>199.000000</td>\n",
       "      <td>200.539993</td>\n",
       "      <td>197.539993</td>\n",
       "      <td>198.529999</td>\n",
       "      <td>36415700</td>\n",
       "      <td>0.00</td>\n",
       "      <td>0.0</td>\n",
       "    </tr>\n",
       "  </tbody>\n",
       "</table>\n",
       "<p>250 rows × 7 columns</p>\n",
       "</div>"
      ],
      "text/plain": [
       "                                 Open        High         Low       Close  \\\n",
       "Date                                                                        \n",
       "2024-05-10 00:00:00-04:00  184.280638  184.470004  181.519927  182.436844   \n",
       "2024-05-13 00:00:00-04:00  184.818854  186.473297  184.001593  185.656036   \n",
       "2024-05-14 00:00:00-04:00  186.881904  187.669266  185.665989  186.802170   \n",
       "2024-05-15 00:00:00-04:00  187.280568  190.011381  186.742369  189.084503   \n",
       "2024-05-16 00:00:00-04:00  189.831996  190.459891  189.024712  189.204102   \n",
       "...                               ...         ...         ...         ...   \n",
       "2025-05-05 00:00:00-04:00  203.100006  204.100006  198.210007  198.889999   \n",
       "2025-05-06 00:00:00-04:00  198.210007  200.649994  197.020004  198.509995   \n",
       "2025-05-07 00:00:00-04:00  199.169998  199.440002  193.250000  196.250000   \n",
       "2025-05-08 00:00:00-04:00  197.720001  200.050003  194.679993  197.490005   \n",
       "2025-05-09 00:00:00-04:00  199.000000  200.539993  197.539993  198.529999   \n",
       "\n",
       "                             Volume  Dividends  Stock Splits  \n",
       "Date                                                          \n",
       "2024-05-10 00:00:00-04:00  50759500       0.25           0.0  \n",
       "2024-05-13 00:00:00-04:00  72044800       0.00           0.0  \n",
       "2024-05-14 00:00:00-04:00  52393600       0.00           0.0  \n",
       "2024-05-15 00:00:00-04:00  70400000       0.00           0.0  \n",
       "2024-05-16 00:00:00-04:00  52845200       0.00           0.0  \n",
       "...                             ...        ...           ...  \n",
       "2025-05-05 00:00:00-04:00  69018500       0.00           0.0  \n",
       "2025-05-06 00:00:00-04:00  51216500       0.00           0.0  \n",
       "2025-05-07 00:00:00-04:00  68616900       0.00           0.0  \n",
       "2025-05-08 00:00:00-04:00  50478900       0.00           0.0  \n",
       "2025-05-09 00:00:00-04:00  36415700       0.00           0.0  \n",
       "\n",
       "[250 rows x 7 columns]"
      ]
     },
     "execution_count": 5,
     "metadata": {},
     "output_type": "execute_result"
    }
   ],
   "source": [
    "data"
   ]
  },
  {
   "cell_type": "code",
   "execution_count": 6,
   "id": "d59d0994",
   "metadata": {},
   "outputs": [
    {
     "data": {
      "text/plain": [
       "<bound method DataFrame.info of                                  Open        High         Low       Close  \\\n",
       "Date                                                                        \n",
       "2024-05-10 00:00:00-04:00  184.280638  184.470004  181.519927  182.436844   \n",
       "2024-05-13 00:00:00-04:00  184.818854  186.473297  184.001593  185.656036   \n",
       "2024-05-14 00:00:00-04:00  186.881904  187.669266  185.665989  186.802170   \n",
       "2024-05-15 00:00:00-04:00  187.280568  190.011381  186.742369  189.084503   \n",
       "2024-05-16 00:00:00-04:00  189.831996  190.459891  189.024712  189.204102   \n",
       "...                               ...         ...         ...         ...   \n",
       "2025-05-05 00:00:00-04:00  203.100006  204.100006  198.210007  198.889999   \n",
       "2025-05-06 00:00:00-04:00  198.210007  200.649994  197.020004  198.509995   \n",
       "2025-05-07 00:00:00-04:00  199.169998  199.440002  193.250000  196.250000   \n",
       "2025-05-08 00:00:00-04:00  197.720001  200.050003  194.679993  197.490005   \n",
       "2025-05-09 00:00:00-04:00  199.000000  200.539993  197.539993  198.529999   \n",
       "\n",
       "                             Volume  Dividends  Stock Splits  \n",
       "Date                                                          \n",
       "2024-05-10 00:00:00-04:00  50759500       0.25           0.0  \n",
       "2024-05-13 00:00:00-04:00  72044800       0.00           0.0  \n",
       "2024-05-14 00:00:00-04:00  52393600       0.00           0.0  \n",
       "2024-05-15 00:00:00-04:00  70400000       0.00           0.0  \n",
       "2024-05-16 00:00:00-04:00  52845200       0.00           0.0  \n",
       "...                             ...        ...           ...  \n",
       "2025-05-05 00:00:00-04:00  69018500       0.00           0.0  \n",
       "2025-05-06 00:00:00-04:00  51216500       0.00           0.0  \n",
       "2025-05-07 00:00:00-04:00  68616900       0.00           0.0  \n",
       "2025-05-08 00:00:00-04:00  50478900       0.00           0.0  \n",
       "2025-05-09 00:00:00-04:00  36415700       0.00           0.0  \n",
       "\n",
       "[250 rows x 7 columns]>"
      ]
     },
     "execution_count": 6,
     "metadata": {},
     "output_type": "execute_result"
    }
   ],
   "source": [
    "data.info\n"
   ]
  },
  {
   "cell_type": "code",
   "execution_count": 7,
   "id": "5230842c",
   "metadata": {},
   "outputs": [],
   "source": [
    "current_data = datetime.now()"
   ]
  },
  {
   "cell_type": "code",
   "execution_count": 8,
   "id": "b33b9f76",
   "metadata": {},
   "outputs": [],
   "source": [
    "start_time = datetime(current_data.year-1, current_data.month, current_data.day - 1) "
   ]
  },
  {
   "cell_type": "code",
   "execution_count": 9,
   "id": "5b5d7d43",
   "metadata": {},
   "outputs": [
    {
     "data": {
      "text/plain": [
       "datetime.datetime(2025, 5, 10, 17, 4, 30, 391002)"
      ]
     },
     "execution_count": 9,
     "metadata": {},
     "output_type": "execute_result"
    }
   ],
   "source": [
    "current_data"
   ]
  },
  {
   "cell_type": "code",
   "execution_count": 10,
   "id": "c7b76627",
   "metadata": {},
   "outputs": [
    {
     "name": "stdout",
     "output_type": "stream",
     "text": [
      "YF.download() has changed argument auto_adjust default to True\n"
     ]
    },
    {
     "name": "stderr",
     "output_type": "stream",
     "text": [
      "[*********************100%***********************]  1 of 1 completed\n"
     ]
    }
   ],
   "source": [
    "data = yf.download(\"AAPL\",start=start_time, end=current_data)"
   ]
  },
  {
   "cell_type": "code",
   "execution_count": 11,
   "id": "2a445e44",
   "metadata": {},
   "outputs": [
    {
     "name": "stdout",
     "output_type": "stream",
     "text": [
      "<class 'pandas.core.frame.DataFrame'>\n",
      "DatetimeIndex: 251 entries, 2024-05-09 to 2025-05-09\n",
      "Data columns (total 5 columns):\n",
      " #   Column          Non-Null Count  Dtype  \n",
      "---  ------          --------------  -----  \n",
      " 0   (Close, AAPL)   251 non-null    float64\n",
      " 1   (High, AAPL)    251 non-null    float64\n",
      " 2   (Low, AAPL)     251 non-null    float64\n",
      " 3   (Open, AAPL)    251 non-null    float64\n",
      " 4   (Volume, AAPL)  251 non-null    int64  \n",
      "dtypes: float64(4), int64(1)\n",
      "memory usage: 11.8 KB\n"
     ]
    }
   ],
   "source": [
    "data.info()"
   ]
  },
  {
   "cell_type": "code",
   "execution_count": 12,
   "id": "c24d5a67",
   "metadata": {},
   "outputs": [
    {
     "data": {
      "text/html": [
       "<div>\n",
       "<style scoped>\n",
       "    .dataframe tbody tr th:only-of-type {\n",
       "        vertical-align: middle;\n",
       "    }\n",
       "\n",
       "    .dataframe tbody tr th {\n",
       "        vertical-align: top;\n",
       "    }\n",
       "\n",
       "    .dataframe thead tr th {\n",
       "        text-align: left;\n",
       "    }\n",
       "</style>\n",
       "<table border=\"1\" class=\"dataframe\">\n",
       "  <thead>\n",
       "    <tr>\n",
       "      <th>Price</th>\n",
       "      <th>Close</th>\n",
       "      <th>High</th>\n",
       "      <th>Low</th>\n",
       "      <th>Open</th>\n",
       "      <th>Volume</th>\n",
       "    </tr>\n",
       "    <tr>\n",
       "      <th>Ticker</th>\n",
       "      <th>AAPL</th>\n",
       "      <th>AAPL</th>\n",
       "      <th>AAPL</th>\n",
       "      <th>AAPL</th>\n",
       "      <th>AAPL</th>\n",
       "    </tr>\n",
       "  </thead>\n",
       "  <tbody>\n",
       "    <tr>\n",
       "      <th>count</th>\n",
       "      <td>251.000000</td>\n",
       "      <td>251.000000</td>\n",
       "      <td>251.000000</td>\n",
       "      <td>251.000000</td>\n",
       "      <td>2.510000e+02</td>\n",
       "    </tr>\n",
       "    <tr>\n",
       "      <th>mean</th>\n",
       "      <td>222.157352</td>\n",
       "      <td>224.410469</td>\n",
       "      <td>219.494984</td>\n",
       "      <td>221.771013</td>\n",
       "      <td>5.608917e+07</td>\n",
       "    </tr>\n",
       "    <tr>\n",
       "      <th>std</th>\n",
       "      <td>17.023097</td>\n",
       "      <td>16.673224</td>\n",
       "      <td>17.295313</td>\n",
       "      <td>17.185929</td>\n",
       "      <td>3.238690e+07</td>\n",
       "    </tr>\n",
       "    <tr>\n",
       "      <th>min</th>\n",
       "      <td>172.419998</td>\n",
       "      <td>183.792164</td>\n",
       "      <td>169.210007</td>\n",
       "      <td>171.949997</td>\n",
       "      <td>2.323470e+07</td>\n",
       "    </tr>\n",
       "    <tr>\n",
       "      <th>25%</th>\n",
       "      <td>213.351433</td>\n",
       "      <td>215.283124</td>\n",
       "      <td>210.281107</td>\n",
       "      <td>212.894477</td>\n",
       "      <td>3.956285e+07</td>\n",
       "    </tr>\n",
       "    <tr>\n",
       "      <th>50%</th>\n",
       "      <td>224.256302</td>\n",
       "      <td>226.331875</td>\n",
       "      <td>222.515348</td>\n",
       "      <td>224.436039</td>\n",
       "      <td>4.807340e+07</td>\n",
       "    </tr>\n",
       "    <tr>\n",
       "      <th>75%</th>\n",
       "      <td>232.753716</td>\n",
       "      <td>234.517946</td>\n",
       "      <td>229.477700</td>\n",
       "      <td>232.697865</td>\n",
       "      <td>6.031885e+07</td>\n",
       "    </tr>\n",
       "    <tr>\n",
       "      <th>max</th>\n",
       "      <td>258.735504</td>\n",
       "      <td>259.814335</td>\n",
       "      <td>257.347047</td>\n",
       "      <td>257.906429</td>\n",
       "      <td>3.186799e+08</td>\n",
       "    </tr>\n",
       "  </tbody>\n",
       "</table>\n",
       "</div>"
      ],
      "text/plain": [
       "Price        Close        High         Low        Open        Volume\n",
       "Ticker        AAPL        AAPL        AAPL        AAPL          AAPL\n",
       "count   251.000000  251.000000  251.000000  251.000000  2.510000e+02\n",
       "mean    222.157352  224.410469  219.494984  221.771013  5.608917e+07\n",
       "std      17.023097   16.673224   17.295313   17.185929  3.238690e+07\n",
       "min     172.419998  183.792164  169.210007  171.949997  2.323470e+07\n",
       "25%     213.351433  215.283124  210.281107  212.894477  3.956285e+07\n",
       "50%     224.256302  226.331875  222.515348  224.436039  4.807340e+07\n",
       "75%     232.753716  234.517946  229.477700  232.697865  6.031885e+07\n",
       "max     258.735504  259.814335  257.347047  257.906429  3.186799e+08"
      ]
     },
     "execution_count": 12,
     "metadata": {},
     "output_type": "execute_result"
    }
   ],
   "source": [
    "data.describe()"
   ]
  },
  {
   "cell_type": "code",
   "execution_count": 13,
   "id": "e780c4a3",
   "metadata": {},
   "outputs": [
    {
     "data": {
      "text/plain": [
       "<seaborn.axisgrid.FacetGrid at 0x223101c4c50>"
      ]
     },
     "execution_count": 13,
     "metadata": {},
     "output_type": "execute_result"
    },
    {
     "data": {
      "image/png": "[encoded data removed]",
      "text/plain": [
       "<Figure size 585.5x500 with 1 Axes>"
      ]
     },
     "metadata": {},
     "output_type": "display_data"
    }
   ],
   "source": [
    "sns.displot(data[\"Close\"])"
   ]
  },
  {
   "cell_type": "code",
   "execution_count": 14,
   "id": "56d8533a",
   "metadata": {},
   "outputs": [
    {
     "data": {
      "image/png": "[encoded data removed]",
      "text/plain": [
       "<Figure size 1500x600 with 1 Axes>"
      ]
     },
     "metadata": {},
     "output_type": "display_data"
    }
   ],
   "source": [
    "plt.figure(figsize=(15,6))\n",
    "plt.plot(data.Close,color=\"red\")\n",
    "plt.title(\"closing Price\")\n",
    "plt.xlabel(\"Date of the stock\")\n",
    "plt.ylabel(\"Price\")\n",
    "plt.show()"
   ]
  },
  {
   "cell_type": "code",
   "execution_count": 15,
   "id": "50aa04b5",
   "metadata": {},
   "outputs": [
    {
     "data": {
      "image/png": "[encoded data removed]",
      "text/plain": [
       "<Figure size 1500x600 with 1 Axes>"
      ]
     },
     "metadata": {},
     "output_type": "display_data"
    }
   ],
   "source": [
    "plt.figure(figsize=(15,6))\n",
    "plt.plot(data[\"Volume\"],color=\"blue\")\n",
    "plt.title(\"Volume\")\n",
    "plt.xlabel(\"Date of the stock\") \n",
    "plt.ylabel(\"Volume\")\n",
    "plt.show()"
   ]
  },
  {
   "cell_type": "code",
   "execution_count": 16,
   "id": "a68ec705",
   "metadata": {},
   "outputs": [],
   "source": [
    "moving_average = [10,20,50]\n",
    "for x in moving_average:\n",
    "    column_name = f\"MA_{x} for {x } days\"\n",
    "    data[column_name] = data[\"Close\"].rolling(x).mean()\n"
   ]
  },
  {
   "cell_type": "code",
   "execution_count": 17,
   "id": "548a9eda",
   "metadata": {},
   "outputs": [
    {
     "data": {
      "text/html": [
       "<div>\n",
       "<style scoped>\n",
       "    .dataframe tbody tr th:only-of-type {\n",
       "        vertical-align: middle;\n",
       "    }\n",
       "\n",
       "    .dataframe tbody tr th {\n",
       "        vertical-align: top;\n",
       "    }\n",
       "\n",
       "    .dataframe thead tr th {\n",
       "        text-align: left;\n",
       "    }\n",
       "\n",
       "    .dataframe thead tr:last-of-type th {\n",
       "        text-align: right;\n",
       "    }\n",
       "</style>\n",
       "<table border=\"1\" class=\"dataframe\">\n",
       "  <thead>\n",
       "    <tr>\n",
       "      <th>Price</th>\n",
       "      <th>Close</th>\n",
       "      <th>High</th>\n",
       "      <th>Low</th>\n",
       "      <th>Open</th>\n",
       "      <th>Volume</th>\n",
       "      <th>MA_10 for 10 days</th>\n",
       "      <th>MA_20 for 20 days</th>\n",
       "      <th>MA_50 for 50 days</th>\n",
       "    </tr>\n",
       "    <tr>\n",
       "      <th>Ticker</th>\n",
       "      <th>AAPL</th>\n",
       "      <th>AAPL</th>\n",
       "      <th>AAPL</th>\n",
       "      <th>AAPL</th>\n",
       "      <th>AAPL</th>\n",
       "      <th></th>\n",
       "      <th></th>\n",
       "      <th></th>\n",
       "    </tr>\n",
       "    <tr>\n",
       "      <th>Date</th>\n",
       "      <th></th>\n",
       "      <th></th>\n",
       "      <th></th>\n",
       "      <th></th>\n",
       "      <th></th>\n",
       "      <th></th>\n",
       "      <th></th>\n",
       "      <th></th>\n",
       "    </tr>\n",
       "  </thead>\n",
       "  <tbody>\n",
       "    <tr>\n",
       "      <th>2024-05-09</th>\n",
       "      <td>183.702591</td>\n",
       "      <td>183.792164</td>\n",
       "      <td>181.254145</td>\n",
       "      <td>181.702028</td>\n",
       "      <td>48983000</td>\n",
       "      <td>NaN</td>\n",
       "      <td>NaN</td>\n",
       "      <td>NaN</td>\n",
       "    </tr>\n",
       "    <tr>\n",
       "      <th>2024-05-10</th>\n",
       "      <td>182.436859</td>\n",
       "      <td>184.470019</td>\n",
       "      <td>181.519943</td>\n",
       "      <td>184.280653</td>\n",
       "      <td>50759500</td>\n",
       "      <td>NaN</td>\n",
       "      <td>NaN</td>\n",
       "      <td>NaN</td>\n",
       "    </tr>\n",
       "    <tr>\n",
       "      <th>2024-05-13</th>\n",
       "      <td>185.656021</td>\n",
       "      <td>186.473282</td>\n",
       "      <td>184.001578</td>\n",
       "      <td>184.818838</td>\n",
       "      <td>72044800</td>\n",
       "      <td>NaN</td>\n",
       "      <td>NaN</td>\n",
       "      <td>NaN</td>\n",
       "    </tr>\n",
       "    <tr>\n",
       "      <th>2024-05-14</th>\n",
       "      <td>186.802155</td>\n",
       "      <td>187.669251</td>\n",
       "      <td>185.665974</td>\n",
       "      <td>186.881888</td>\n",
       "      <td>52393600</td>\n",
       "      <td>NaN</td>\n",
       "      <td>NaN</td>\n",
       "      <td>NaN</td>\n",
       "    </tr>\n",
       "    <tr>\n",
       "      <th>2024-05-15</th>\n",
       "      <td>189.084518</td>\n",
       "      <td>190.011396</td>\n",
       "      <td>186.742384</td>\n",
       "      <td>187.280584</td>\n",
       "      <td>70400000</td>\n",
       "      <td>NaN</td>\n",
       "      <td>NaN</td>\n",
       "      <td>NaN</td>\n",
       "    </tr>\n",
       "    <tr>\n",
       "      <th>...</th>\n",
       "      <td>...</td>\n",
       "      <td>...</td>\n",
       "      <td>...</td>\n",
       "      <td>...</td>\n",
       "      <td>...</td>\n",
       "      <td>...</td>\n",
       "      <td>...</td>\n",
       "      <td>...</td>\n",
       "    </tr>\n",
       "    <tr>\n",
       "      <th>2025-05-05</th>\n",
       "      <td>198.889999</td>\n",
       "      <td>204.100006</td>\n",
       "      <td>198.210007</td>\n",
       "      <td>203.100006</td>\n",
       "      <td>69018500</td>\n",
       "      <td>207.340002</td>\n",
       "      <td>200.188502</td>\n",
       "      <td>214.656401</td>\n",
       "    </tr>\n",
       "    <tr>\n",
       "      <th>2025-05-06</th>\n",
       "      <td>198.509995</td>\n",
       "      <td>200.649994</td>\n",
       "      <td>197.020004</td>\n",
       "      <td>198.210007</td>\n",
       "      <td>51216500</td>\n",
       "      <td>207.217001</td>\n",
       "      <td>201.041001</td>\n",
       "      <td>213.684601</td>\n",
       "    </tr>\n",
       "    <tr>\n",
       "      <th>2025-05-07</th>\n",
       "      <td>196.250000</td>\n",
       "      <td>199.440002</td>\n",
       "      <td>193.250000</td>\n",
       "      <td>199.169998</td>\n",
       "      <td>68616900</td>\n",
       "      <td>206.382001</td>\n",
       "      <td>202.232501</td>\n",
       "      <td>212.668801</td>\n",
       "    </tr>\n",
       "    <tr>\n",
       "      <th>2025-05-08</th>\n",
       "      <td>197.490005</td>\n",
       "      <td>200.050003</td>\n",
       "      <td>194.679993</td>\n",
       "      <td>197.720001</td>\n",
       "      <td>50478900</td>\n",
       "      <td>205.294002</td>\n",
       "      <td>202.164501</td>\n",
       "      <td>211.811401</td>\n",
       "    </tr>\n",
       "    <tr>\n",
       "      <th>2025-05-09</th>\n",
       "      <td>198.529999</td>\n",
       "      <td>200.539993</td>\n",
       "      <td>197.539993</td>\n",
       "      <td>199.000000</td>\n",
       "      <td>36415700</td>\n",
       "      <td>204.219002</td>\n",
       "      <td>202.570001</td>\n",
       "      <td>211.036001</td>\n",
       "    </tr>\n",
       "  </tbody>\n",
       "</table>\n",
       "<p>251 rows × 8 columns</p>\n",
       "</div>"
      ],
      "text/plain": [
       "Price            Close        High         Low        Open    Volume  \\\n",
       "Ticker            AAPL        AAPL        AAPL        AAPL      AAPL   \n",
       "Date                                                                   \n",
       "2024-05-09  183.702591  183.792164  181.254145  181.702028  48983000   \n",
       "2024-05-10  182.436859  184.470019  181.519943  184.280653  50759500   \n",
       "2024-05-13  185.656021  186.473282  184.001578  184.818838  72044800   \n",
       "2024-05-14  186.802155  187.669251  185.665974  186.881888  52393600   \n",
       "2024-05-15  189.084518  190.011396  186.742384  187.280584  70400000   \n",
       "...                ...         ...         ...         ...       ...   \n",
       "2025-05-05  198.889999  204.100006  198.210007  203.100006  69018500   \n",
       "2025-05-06  198.509995  200.649994  197.020004  198.210007  51216500   \n",
       "2025-05-07  196.250000  199.440002  193.250000  199.169998  68616900   \n",
       "2025-05-08  197.490005  200.050003  194.679993  197.720001  50478900   \n",
       "2025-05-09  198.529999  200.539993  197.539993  199.000000  36415700   \n",
       "\n",
       "Price      MA_10 for 10 days MA_20 for 20 days MA_50 for 50 days  \n",
       "Ticker                                                            \n",
       "Date                                                              \n",
       "2024-05-09               NaN               NaN               NaN  \n",
       "2024-05-10               NaN               NaN               NaN  \n",
       "2024-05-13               NaN               NaN               NaN  \n",
       "2024-05-14               NaN               NaN               NaN  \n",
       "2024-05-15               NaN               NaN               NaN  \n",
       "...                      ...               ...               ...  \n",
       "2025-05-05        207.340002        200.188502        214.656401  \n",
       "2025-05-06        207.217001        201.041001        213.684601  \n",
       "2025-05-07        206.382001        202.232501        212.668801  \n",
       "2025-05-08        205.294002        202.164501        211.811401  \n",
       "2025-05-09        204.219002        202.570001        211.036001  \n",
       "\n",
       "[251 rows x 8 columns]"
      ]
     },
     "execution_count": 17,
     "metadata": {},
     "output_type": "execute_result"
    }
   ],
   "source": [
    "data"
   ]
  },
  {
   "cell_type": "code",
   "execution_count": 18,
   "id": "54b7076c",
   "metadata": {},
   "outputs": [
    {
     "data": {
      "application/vnd.plotly.v1+json": {
       "config": {
        "plotlyServerURL": "https://plot.ly"
       },
       "data": [
        {
         "hovertemplate": "variable=Close AAPL<br>Date=%{x}<br>value=%{y}<extra></extra>",
         "legendgroup": "Close AAPL",
         "line": {
          "color": "#636efa",
          "dash": "solid"
         },
         "marker": {
          "symbol": "circle"
         },
         "mode": "lines",
         "name": "Close AAPL",
         "showlegend": true,
         "type": "scattergl",
         "x": [
          "2024-05-09T00:00:00.000000000",
          "2024-05-10T00:00:00.000000000",
          "2024-05-13T00:00:00.000000000",
          "2024-05-14T00:00:00.000000000",
          "2024-05-15T00:00:00.000000000",
          "2024-05-16T00:00:00.000000000",
          "2024-05-17T00:00:00.000000000",
          "2024-05-20T00:00:00.000000000",
          "2024-05-21T00:00:00.000000000",
          "2024-05-22T00:00:00.000000000",
          "2024-05-23T00:00:00.000000000",
          "2024-05-24T00:00:00.000000000",
          "2024-05-28T00:00:00.000000000",
          "2024-05-29T00:00:00.000000000",
          "2024-05-30T00:00:00.000000000",
          "2024-05-31T00:00:00.000000000",
          "2024-06-03T00:00:00.000000000",
          "2024-06-04T00:00:00.000000000",
          "2024-06-05T00:00:00.000000000",
          "2024-06-06T00:00:00.000000000",
          "2024-06-07T00:00:00.000000000",
          "2024-06-10T00:00:00.000000000",
          "2024-06-11T00:00:00.000000000",
          "2024-06-12T00:00:00.000000000",
          "2024-06-13T00:00:00.000000000",
          "2024-06-14T00:00:00.000000000",
          "2024-06-17T00:00:00.000000000",
          "2024-06-18T00:00:00.000000000",
          "2024-06-20T00:00:00.000000000",
          "2024-06-21T00:00:00.000000000",
          "2024-06-24T00:00:00.000000000",
          "2024-06-25T00:00:00.000000000",
          "2024-06-26T00:00:00.000000000",
          "2024-06-27T00:00:00.000000000",
          "2024-06-28T00:00:00.000000000",
          "2024-07-01T00:00:00.000000000",
          "2024-07-02T00:00:00.000000000",
          "2024-07-03T00:00:00.000000000",
          "2024-07-05T00:00:00.000000000",
          "2024-07-08T00:00:00.000000000",
          "2024-07-09T00:00:00.000000000",
          "2024-07-10T00:00:00.000000000",
          "2024-07-11T00:00:00.000000000",
          "2024-07-12T00:00:00.000000000",
          "2024-07-15T00:00:00.000000000",
          "2024-07-16T00:00:00.000000000",
          "2024-07-17T00:00:00.000000000",
          "2024-07-18T00:00:00.000000000",
          "2024-07-19T00:00:00.000000000",
          "2024-07-22T00:00:00.000000000",
          "2024-07-23T00:00:00.000000000",
          "2024-07-24T00:00:00.000000000",
          "2024-07-25T00:00:00.000000000",
          "2024-07-26T00:00:00.000000000",
          "2024-07-29T00:00:00.000000000",
          "2024-07-30T00:00:00.000000000",
          "2024-07-31T00:00:00.000000000",
          "2024-08-01T00:00:00.000000000",
          "2024-08-02T00:00:00.000000000",
          "2024-08-05T00:00:00.000000000",
          "2024-08-06T00:00:00.000000000",
          "2024-08-07T00:00:00.000000000",
          "2024-08-08T00:00:00.000000000",
          "2024-08-09T00:00:00.000000000",
          "2024-08-12T00:00:00.000000000",
          "2024-08-13T00:00:00.000000000",
          "2024-08-14T00:00:00.000000000",
          "2024-08-15T00:00:00.000000000",
          "2024-08-16T00:00:00.000000000",
          "2024-08-19T00:00:00.000000000",
          "2024-08-20T00:00:00.000000000",
          "2024-08-21T00:00:00.000000000",
          "2024-08-22T00:00:00.000000000",
          "2024-08-23T00:00:00.000000000",
          "2024-08-26T00:00:00.000000000",
          "2024-08-27T00:00:00.000000000",
          "2024-08-28T00:00:00.000000000",
          "2024-08-29T00:00:00.000000000",
          "2024-08-30T00:00:00.000000000",
          "2024-09-03T00:00:00.000000000",
          "2024-09-04T00:00:00.000000000",
          "2024-09-05T00:00:00.000000000",
          "2024-09-06T00:00:00.000000000",
          "2024-09-09T00:00:00.000000000",
          "2024-09-10T00:00:00.000000000",
          "2024-09-11T00:00:00.000000000",
          "2024-09-12T00:00:00.000000000",
          "2024-09-13T00:00:00.000000000",
          "2024-09-16T00:00:00.000000000",
          "2024-09-17T00:00:00.000000000",
          "2024-09-18T00:00:00.000000000",
          "2024-09-19T00:00:00.000000000",
          "2024-09-20T00:00:00.000000000",
          "2024-09-23T00:00:00.000000000",
          "2024-09-24T00:00:00.000000000",
          "2024-09-25T00:00:00.000000000",
          "2024-09-26T00:00:00.000000000",
          "2024-09-27T00:00:00.000000000",
          "2024-09-30T00:00:00.000000000",
          "2024-10-01T00:00:00.000000000",
          "2024-10-02T00:00:00.000000000",
          "2024-10-03T00:00:00.000000000",
          "2024-10-04T00:00:00.000000000",
          "2024-10-07T00:00:00.000000000",
          "2024-10-08T00:00:00.000000000",
          "2024-10-09T00:00:00.000000000",
          "2024-10-10T00:00:00.000000000",
          "2024-10-11T00:00:00.000000000",
          "2024-10-14T00:00:00.000000000",
          "2024-10-15T00:00:00.000000000",
          "2024-10-16T00:00:00.000000000",
          "2024-10-17T00:00:00.000000000",
          "2024-10-18T00:00:00.000000000",
          "2024-10-21T00:00:00.000000000",
          "2024-10-22T00:00:00.000000000",
          "2024-10-23T00:00:00.000000000",
          "2024-10-24T00:00:00.000000000",
          "2024-10-25T00:00:00.000000000",
          "2024-10-28T00:00:00.000000000",
          "2024-10-29T00:00:00.000000000",
          "2024-10-30T00:00:00.000000000",
          "2024-10-31T00:00:00.000000000",
          "2024-11-01T00:00:00.000000000",
          "2024-11-04T00:00:00.000000000",
          "2024-11-05T00:00:00.000000000",
          "2024-11-06T00:00:00.000000000",
          "2024-11-07T00:00:00.000000000",
          "2024-11-08T00:00:00.000000000",
          "2024-11-11T00:00:00.000000000",
          "2024-11-12T00:00:00.000000000",
          "2024-11-13T00:00:00.000000000",
          "2024-11-14T00:00:00.000000000",
          "2024-11-15T00:00:00.000000000",
          "2024-11-18T00:00:00.000000000",
          "2024-11-19T00:00:00.000000000",
          "2024-11-20T00:00:00.000000000",
          "2024-11-21T00:00:00.000000000",
          "2024-11-22T00:00:00.000000000",
          "2024-11-25T00:00:00.000000000",
          "2024-11-26T00:00:00.000000000",
          "2024-11-27T00:00:00.000000000",
          "2024-11-29T00:00:00.000000000",
          "2024-12-02T00:00:00.000000000",
          "2024-12-03T00:00:00.000000000",
          "2024-12-04T00:00:00.000000000",
          "2024-12-05T00:00:00.000000000",
          "2024-12-06T00:00:00.000000000",
          "2024-12-09T00:00:00.000000000",
          "2024-12-10T00:00:00.000000000",
          "2024-12-11T00:00:00.000000000",
          "2024-12-12T00:00:00.000000000",
          "2024-12-13T00:00:00.000000000",
          "2024-12-16T00:00:00.000000000",
          "2024-12-17T00:00:00.000000000",
          "2024-12-18T00:00:00.000000000",
          "2024-12-19T00:00:00.000000000",
          "2024-12-20T00:00:00.000000000",
          "2024-12-23T00:00:00.000000000",
          "2024-12-24T00:00:00.000000000",
          "2024-12-26T00:00:00.000000000",
          "2024-12-27T00:00:00.000000000",
          "2024-12-30T00:00:00.000000000",
          "2024-12-31T00:00:00.000000000",
          "2025-01-02T00:00:00.000000000",
          "2025-01-03T00:00:00.000000000",
          "2025-01-06T00:00:00.000000000",
          "2025-01-07T00:00:00.000000000",
          "2025-01-08T00:00:00.000000000",
          "2025-01-10T00:00:00.000000000",
          "2025-01-13T00:00:00.000000000",
          "2025-01-14T00:00:00.000000000",
          "2025-01-15T00:00:00.000000000",
          "2025-01-16T00:00:00.000000000",
          "2025-01-17T00:00:00.000000000",
          "2025-01-21T00:00:00.000000000",
          "2025-01-22T00:00:00.000000000",
          "2025-01-23T00:00:00.000000000",
          "2025-01-24T00:00:00.000000000",
          "2025-01-27T00:00:00.000000000",
          "2025-01-28T00:00:00.000000000",
          "2025-01-29T00:00:00.000000000",
          "2025-01-30T00:00:00.000000000",
          "2025-01-31T00:00:00.000000000",
          "2025-02-03T00:00:00.000000000",
          "2025-02-04T00:00:00.000000000",
          "2025-02-05T00:00:00.000000000",
          "2025-02-06T00:00:00.000000000",
          "2025-02-07T00:00:00.000000000",
          "2025-02-10T00:00:00.000000000",
          "2025-02-11T00:00:00.000000000",
          "2025-02-12T00:00:00.000000000",
          "2025-02-13T00:00:00.000000000",
          "2025-02-14T00:00:00.000000000",
          "2025-02-18T00:00:00.000000000",
          "2025-02-19T00:00:00.000000000",
          "2025-02-20T00:00:00.000000000",
          "2025-02-21T00:00:00.000000000",
          "2025-02-24T00:00:00.000000000",
          "2025-02-25T00:00:00.000000000",
          "2025-02-26T00:00:00.000000000",
          "2025-02-27T00:00:00.000000000",
          "2025-02-28T00:00:00.000000000",
          "2025-03-03T00:00:00.000000000",
          "2025-03-04T00:00:00.000000000",
          "2025-03-05T00:00:00.000000000",
          "2025-03-06T00:00:00.000000000",
          "2025-03-07T00:00:00.000000000",
          "2025-03-10T00:00:00.000000000",
          "2025-03-11T00:00:00.000000000",
          "2025-03-12T00:00:00.000000000",
          "2025-03-13T00:00:00.000000000",
          "2025-03-14T00:00:00.000000000",
          "2025-03-17T00:00:00.000000000",
          "2025-03-18T00:00:00.000000000",
          "2025-03-19T00:00:00.000000000",
          "2025-03-20T00:00:00.000000000",
          "2025-03-21T00:00:00.000000000",
          "2025-03-24T00:00:00.000000000",
          "2025-03-25T00:00:00.000000000",
          "2025-03-26T00:00:00.000000000",
          "2025-03-27T00:00:00.000000000",
          "2025-03-28T00:00:00.000000000",
          "2025-03-31T00:00:00.000000000",
          "2025-04-01T00:00:00.000000000",
          "2025-04-02T00:00:00.000000000",
          "2025-04-03T00:00:00.000000000",
          "2025-04-04T00:00:00.000000000",
          "2025-04-07T00:00:00.000000000",
          "2025-04-08T00:00:00.000000000",
          "2025-04-09T00:00:00.000000000",
          "2025-04-10T00:00:00.000000000",
          "2025-04-11T00:00:00.000000000",
          "2025-04-14T00:00:00.000000000",
          "2025-04-15T00:00:00.000000000",
          "2025-04-16T00:00:00.000000000",
          "2025-04-17T00:00:00.000000000",
          "2025-04-21T00:00:00.000000000",
          "2025-04-22T00:00:00.000000000",
          "2025-04-23T00:00:00.000000000",
          "2025-04-24T00:00:00.000000000",
          "2025-04-25T00:00:00.000000000",
          "2025-04-28T00:00:00.000000000",
          "2025-04-29T00:00:00.000000000",
          "2025-04-30T00:00:00.000000000",
          "2025-05-01T00:00:00.000000000",
          "2025-05-02T00:00:00.000000000",
          "2025-05-05T00:00:00.000000000",
          "2025-05-06T00:00:00.000000000",
          "2025-05-07T00:00:00.000000000",
          "2025-05-08T00:00:00.000000000",
          "2025-05-09T00:00:00.000000000"
         ],
         "xaxis": "x",
         "y": {
          "bdata": "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",
          "dtype": "f8"
         },
         "yaxis": "y"
        },
        {
         "hovertemplate": "variable=MA_10 for 10 days<br>Date=%{x}<br>value=%{y}<extra></extra>",
         "legendgroup": "MA_10 for 10 days",
         "line": {
          "color": "#EF553B",
          "dash": "solid"
         },
         "marker": {
          "symbol": "circle"
         },
         "mode": "lines",
         "name": "MA_10 for 10 days",
         "showlegend": true,
         "type": "scattergl",
         "x": [
          "2024-05-09T00:00:00.000000000",
          "2024-05-10T00:00:00.000000000",
          "2024-05-13T00:00:00.000000000",
          "2024-05-14T00:00:00.000000000",
          "2024-05-15T00:00:00.000000000",
          "2024-05-16T00:00:00.000000000",
          "2024-05-17T00:00:00.000000000",
          "2024-05-20T00:00:00.000000000",
          "2024-05-21T00:00:00.000000000",
          "2024-05-22T00:00:00.000000000",
          "2024-05-23T00:00:00.000000000",
          "2024-05-24T00:00:00.000000000",
          "2024-05-28T00:00:00.000000000",
          "2024-05-29T00:00:00.000000000",
          "2024-05-30T00:00:00.000000000",
          "2024-05-31T00:00:00.000000000",
          "2024-06-03T00:00:00.000000000",
          "2024-06-04T00:00:00.000000000",
          "2024-06-05T00:00:00.000000000",
          "2024-06-06T00:00:00.000000000",
          "2024-06-07T00:00:00.000000000",
          "2024-06-10T00:00:00.000000000",
          "2024-06-11T00:00:00.000000000",
          "2024-06-12T00:00:00.000000000",
          "2024-06-13T00:00:00.000000000",
          "2024-06-14T00:00:00.000000000",
          "2024-06-17T00:00:00.000000000",
          "2024-06-18T00:00:00.000000000",
          "2024-06-20T00:00:00.000000000",
          "2024-06-21T00:00:00.000000000",
          "2024-06-24T00:00:00.000000000",
          "2024-06-25T00:00:00.000000000",
          "2024-06-26T00:00:00.000000000",
          "2024-06-27T00:00:00.000000000",
          "2024-06-28T00:00:00.000000000",
          "2024-07-01T00:00:00.000000000",
          "2024-07-02T00:00:00.000000000",
          "2024-07-03T00:00:00.000000000",
          "2024-07-05T00:00:00.000000000",
          "2024-07-08T00:00:00.000000000",
          "2024-07-09T00:00:00.000000000",
          "2024-07-10T00:00:00.000000000",
          "2024-07-11T00:00:00.000000000",
          "2024-07-12T00:00:00.000000000",
          "2024-07-15T00:00:00.000000000",
          "2024-07-16T00:00:00.000000000",
          "2024-07-17T00:00:00.000000000",
          "2024-07-18T00:00:00.000000000",
          "2024-07-19T00:00:00.000000000",
          "2024-07-22T00:00:00.000000000",
          "2024-07-23T00:00:00.000000000",
          "2024-07-24T00:00:00.000000000",
          "2024-07-25T00:00:00.000000000",
          "2024-07-26T00:00:00.000000000",
          "2024-07-29T00:00:00.000000000",
          "2024-07-30T00:00:00.000000000",
          "2024-07-31T00:00:00.000000000",
          "2024-08-01T00:00:00.000000000",
          "2024-08-02T00:00:00.000000000",
          "2024-08-05T00:00:00.000000000",
          "2024-08-06T00:00:00.000000000",
          "2024-08-07T00:00:00.000000000",
          "2024-08-08T00:00:00.000000000",
          "2024-08-09T00:00:00.000000000",
          "2024-08-12T00:00:00.000000000",
          "2024-08-13T00:00:00.000000000",
          "2024-08-14T00:00:00.000000000",
          "2024-08-15T00:00:00.000000000",
          "2024-08-16T00:00:00.000000000",
          "2024-08-19T00:00:00.000000000",
          "2024-08-20T00:00:00.000000000",
          "2024-08-21T00:00:00.000000000",
          "2024-08-22T00:00:00.000000000",
          "2024-08-23T00:00:00.000000000",
          "2024-08-26T00:00:00.000000000",
          "2024-08-27T00:00:00.000000000",
          "2024-08-28T00:00:00.000000000",
          "2024-08-29T00:00:00.000000000",
          "2024-08-30T00:00:00.000000000",
          "2024-09-03T00:00:00.000000000",
          "2024-09-04T00:00:00.000000000",
          "2024-09-05T00:00:00.000000000",
          "2024-09-06T00:00:00.000000000",
          "2024-09-09T00:00:00.000000000",
          "2024-09-10T00:00:00.000000000",
          "2024-09-11T00:00:00.000000000",
          "2024-09-12T00:00:00.000000000",
          "2024-09-13T00:00:00.000000000",
          "2024-09-16T00:00:00.000000000",
          "2024-09-17T00:00:00.000000000",
          "2024-09-18T00:00:00.000000000",
          "2024-09-19T00:00:00.000000000",
          "2024-09-20T00:00:00.000000000",
          "2024-09-23T00:00:00.000000000",
          "2024-09-24T00:00:00.000000000",
          "2024-09-25T00:00:00.000000000",
          "2024-09-26T00:00:00.000000000",
          "2024-09-27T00:00:00.000000000",
          "2024-09-30T00:00:00.000000000",
          "2024-10-01T00:00:00.000000000",
          "2024-10-02T00:00:00.000000000",
          "2024-10-03T00:00:00.000000000",
          "2024-10-04T00:00:00.000000000",
          "2024-10-07T00:00:00.000000000",
          "2024-10-08T00:00:00.000000000",
          "2024-10-09T00:00:00.000000000",
          "2024-10-10T00:00:00.000000000",
          "2024-10-11T00:00:00.000000000",
          "2024-10-14T00:00:00.000000000",
          "2024-10-15T00:00:00.000000000",
          "2024-10-16T00:00:00.000000000",
          "2024-10-17T00:00:00.000000000",
          "2024-10-18T00:00:00.000000000",
          "2024-10-21T00:00:00.000000000",
          "2024-10-22T00:00:00.000000000",
          "2024-10-23T00:00:00.000000000",
          "2024-10-24T00:00:00.000000000",
          "2024-10-25T00:00:00.000000000",
          "2024-10-28T00:00:00.000000000",
          "2024-10-29T00:00:00.000000000",
          "2024-10-30T00:00:00.000000000",
          "2024-10-31T00:00:00.000000000",
          "2024-11-01T00:00:00.000000000",
          "2024-11-04T00:00:00.000000000",
          "2024-11-05T00:00:00.000000000",
          "2024-11-06T00:00:00.000000000",
          "2024-11-07T00:00:00.000000000",
          "2024-11-08T00:00:00.000000000",
          "2024-11-11T00:00:00.000000000",
          "2024-11-12T00:00:00.000000000",
          "2024-11-13T00:00:00.000000000",
          "2024-11-14T00:00:00.000000000",
          "2024-11-15T00:00:00.000000000",
          "2024-11-18T00:00:00.000000000",
          "2024-11-19T00:00:00.000000000",
          "2024-11-20T00:00:00.000000000",
          "2024-11-21T00:00:00.000000000",
          "2024-11-22T00:00:00.000000000",
          "2024-11-25T00:00:00.000000000",
          "2024-11-26T00:00:00.000000000",
          "2024-11-27T00:00:00.000000000",
          "2024-11-29T00:00:00.000000000",
          "2024-12-02T00:00:00.000000000",
          "2024-12-03T00:00:00.000000000",
          "2024-12-04T00:00:00.000000000",
          "2024-12-05T00:00:00.000000000",
          "2024-12-06T00:00:00.000000000",
          "2024-12-09T00:00:00.000000000",
          "2024-12-10T00:00:00.000000000",
          "2024-12-11T00:00:00.000000000",
          "2024-12-12T00:00:00.000000000",
          "2024-12-13T00:00:00.000000000",
          "2024-12-16T00:00:00.000000000",
          "2024-12-17T00:00:00.000000000",
          "2024-12-18T00:00:00.000000000",
          "2024-12-19T00:00:00.000000000",
          "2024-12-20T00:00:00.000000000",
          "2024-12-23T00:00:00.000000000",
          "2024-12-24T00:00:00.000000000",
          "2024-12-26T00:00:00.000000000",
          "2024-12-27T00:00:00.000000000",
          "2024-12-30T00:00:00.000000000",
          "2024-12-31T00:00:00.000000000",
          "2025-01-02T00:00:00.000000000",
          "2025-01-03T00:00:00.000000000",
          "2025-01-06T00:00:00.000000000",
          "2025-01-07T00:00:00.000000000",
          "2025-01-08T00:00:00.000000000",
          "2025-01-10T00:00:00.000000000",
          "2025-01-13T00:00:00.000000000",
          "2025-01-14T00:00:00.000000000",
          "2025-01-15T00:00:00.000000000",
          "2025-01-16T00:00:00.000000000",
          "2025-01-17T00:00:00.000000000",
          "2025-01-21T00:00:00.000000000",
          "2025-01-22T00:00:00.000000000",
          "2025-01-23T00:00:00.000000000",
          "2025-01-24T00:00:00.000000000",
          "2025-01-27T00:00:00.000000000",
          "2025-01-28T00:00:00.000000000",
          "2025-01-29T00:00:00.000000000",
          "2025-01-30T00:00:00.000000000",
          "2025-01-31T00:00:00.000000000",
          "2025-02-03T00:00:00.000000000",
          "2025-02-04T00:00:00.000000000",
          "2025-02-05T00:00:00.000000000",
          "2025-02-06T00:00:00.000000000",
          "2025-02-07T00:00:00.000000000",
          "2025-02-10T00:00:00.000000000",
          "2025-02-11T00:00:00.000000000",
          "2025-02-12T00:00:00.000000000",
          "2025-02-13T00:00:00.000000000",
          "2025-02-14T00:00:00.000000000",
          "2025-02-18T00:00:00.000000000",
          "2025-02-19T00:00:00.000000000",
          "2025-02-20T00:00:00.000000000",
          "2025-02-21T00:00:00.000000000",
          "2025-02-24T00:00:00.000000000",
          "2025-02-25T00:00:00.000000000",
          "2025-02-26T00:00:00.000000000",
          "2025-02-27T00:00:00.000000000",
          "2025-02-28T00:00:00.000000000",
          "2025-03-03T00:00:00.000000000",
          "2025-03-04T00:00:00.000000000",
          "2025-03-05T00:00:00.000000000",
          "2025-03-06T00:00:00.000000000",
          "2025-03-07T00:00:00.000000000",
          "2025-03-10T00:00:00.000000000",
          "2025-03-11T00:00:00.000000000",
          "2025-03-12T00:00:00.000000000",
          "2025-03-13T00:00:00.000000000",
          "2025-03-14T00:00:00.000000000",
          "2025-03-17T00:00:00.000000000",
          "2025-03-18T00:00:00.000000000",
          "2025-03-19T00:00:00.000000000",
          "2025-03-20T00:00:00.000000000",
          "2025-03-21T00:00:00.000000000",
          "2025-03-24T00:00:00.000000000",
          "2025-03-25T00:00:00.000000000",
          "2025-03-26T00:00:00.000000000",
          "2025-03-27T00:00:00.000000000",
          "2025-03-28T00:00:00.000000000",
          "2025-03-31T00:00:00.000000000",
          "2025-04-01T00:00:00.000000000",
          "2025-04-02T00:00:00.000000000",
          "2025-04-03T00:00:00.000000000",
          "2025-04-04T00:00:00.000000000",
          "2025-04-07T00:00:00.000000000",
          "2025-04-08T00:00:00.000000000",
          "2025-04-09T00:00:00.000000000",
          "2025-04-10T00:00:00.000000000",
          "2025-04-11T00:00:00.000000000",
          "2025-04-14T00:00:00.000000000",
          "2025-04-15T00:00:00.000000000",
          "2025-04-16T00:00:00.000000000",
          "2025-04-17T00:00:00.000000000",
          "2025-04-21T00:00:00.000000000",
          "2025-04-22T00:00:00.000000000",
          "2025-04-23T00:00:00.000000000",
          "2025-04-24T00:00:00.000000000",
          "2025-04-25T00:00:00.000000000",
          "2025-04-28T00:00:00.000000000",
          "2025-04-29T00:00:00.000000000",
          "2025-04-30T00:00:00.000000000",
          "2025-05-01T00:00:00.000000000",
          "2025-05-02T00:00:00.000000000",
          "2025-05-05T00:00:00.000000000",
          "2025-05-06T00:00:00.000000000",
          "2025-05-07T00:00:00.000000000",
          "2025-05-08T00:00:00.000000000",
          "2025-05-09T00:00:00.000000000"
         ],
         "xaxis": "x",
         "y": {
          "bdata": "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",
          "dtype": "f8"
         },
         "yaxis": "y"
        },
        {
         "hovertemplate": "variable=MA_20 for 20 days<br>Date=%{x}<br>value=%{y}<extra></extra>",
         "legendgroup": "MA_20 for 20 days",
         "line": {
          "color": "#00cc96",
          "dash": "solid"
         },
         "marker": {
          "symbol": "circle"
         },
         "mode": "lines",
         "name": "MA_20 for 20 days",
         "showlegend": true,
         "type": "scattergl",
         "x": [
          "2024-05-09T00:00:00.000000000",
          "2024-05-10T00:00:00.000000000",
          "2024-05-13T00:00:00.000000000",
          "2024-05-14T00:00:00.000000000",
          "2024-05-15T00:00:00.000000000",
          "2024-05-16T00:00:00.000000000",
          "2024-05-17T00:00:00.000000000",
          "2024-05-20T00:00:00.000000000",
          "2024-05-21T00:00:00.000000000",
          "2024-05-22T00:00:00.000000000",
          "2024-05-23T00:00:00.000000000",
          "2024-05-24T00:00:00.000000000",
          "2024-05-28T00:00:00.000000000",
          "2024-05-29T00:00:00.000000000",
          "2024-05-30T00:00:00.000000000",
          "2024-05-31T00:00:00.000000000",
          "2024-06-03T00:00:00.000000000",
          "2024-06-04T00:00:00.000000000",
          "2024-06-05T00:00:00.000000000",
          "2024-06-06T00:00:00.000000000",
          "2024-06-07T00:00:00.000000000",
          "2024-06-10T00:00:00.000000000",
          "2024-06-11T00:00:00.000000000",
          "2024-06-12T00:00:00.000000000",
          "2024-06-13T00:00:00.000000000",
          "2024-06-14T00:00:00.000000000",
          "2024-06-17T00:00:00.000000000",
          "2024-06-18T00:00:00.000000000",
          "2024-06-20T00:00:00.000000000",
          "2024-06-21T00:00:00.000000000",
          "2024-06-24T00:00:00.000000000",
          "2024-06-25T00:00:00.000000000",
          "2024-06-26T00:00:00.000000000",
          "2024-06-27T00:00:00.000000000",
          "2024-06-28T00:00:00.000000000",
          "2024-07-01T00:00:00.000000000",
          "2024-07-02T00:00:00.000000000",
          "2024-07-03T00:00:00.000000000",
          "2024-07-05T00:00:00.000000000",
          "2024-07-08T00:00:00.000000000",
          "2024-07-09T00:00:00.000000000",
          "2024-07-10T00:00:00.000000000",
          "2024-07-11T00:00:00.000000000",
          "2024-07-12T00:00:00.000000000",
          "2024-07-15T00:00:00.000000000",
          "2024-07-16T00:00:00.000000000",
          "2024-07-17T00:00:00.000000000",
          "2024-07-18T00:00:00.000000000",
          "2024-07-19T00:00:00.000000000",
          "2024-07-22T00:00:00.000000000",
          "2024-07-23T00:00:00.000000000",
          "2024-07-24T00:00:00.000000000",
          "2024-07-25T00:00:00.000000000",
          "2024-07-26T00:00:00.000000000",
          "2024-07-29T00:00:00.000000000",
          "2024-07-30T00:00:00.000000000",
          "2024-07-31T00:00:00.000000000",
          "2024-08-01T00:00:00.000000000",
          "2024-08-02T00:00:00.000000000",
          "2024-08-05T00:00:00.000000000",
          "2024-08-06T00:00:00.000000000",
          "2024-08-07T00:00:00.000000000",
          "2024-08-08T00:00:00.000000000",
          "2024-08-09T00:00:00.000000000",
          "2024-08-12T00:00:00.000000000",
          "2024-08-13T00:00:00.000000000",
          "2024-08-14T00:00:00.000000000",
          "2024-08-15T00:00:00.000000000",
          "2024-08-16T00:00:00.000000000",
          "2024-08-19T00:00:00.000000000",
          "2024-08-20T00:00:00.000000000",
          "2024-08-21T00:00:00.000000000",
          "2024-08-22T00:00:00.000000000",
          "2024-08-23T00:00:00.000000000",
          "2024-08-26T00:00:00.000000000",
          "2024-08-27T00:00:00.000000000",
          "2024-08-28T00:00:00.000000000",
          "2024-08-29T00:00:00.000000000",
          "2024-08-30T00:00:00.000000000",
          "2024-09-03T00:00:00.000000000",
          "2024-09-04T00:00:00.000000000",
          "2024-09-05T00:00:00.000000000",
          "2024-09-06T00:00:00.000000000",
          "2024-09-09T00:00:00.000000000",
          "2024-09-10T00:00:00.000000000",
          "2024-09-11T00:00:00.000000000",
          "2024-09-12T00:00:00.000000000",
          "2024-09-13T00:00:00.000000000",
          "2024-09-16T00:00:00.000000000",
          "2024-09-17T00:00:00.000000000",
          "2024-09-18T00:00:00.000000000",
          "2024-09-19T00:00:00.000000000",
          "2024-09-20T00:00:00.000000000",
          "2024-09-23T00:00:00.000000000",
          "2024-09-24T00:00:00.000000000",
          "2024-09-25T00:00:00.000000000",
          "2024-09-26T00:00:00.000000000",
          "2024-09-27T00:00:00.000000000",
          "2024-09-30T00:00:00.000000000",
          "2024-10-01T00:00:00.000000000",
          "2024-10-02T00:00:00.000000000",
          "2024-10-03T00:00:00.000000000",
          "2024-10-04T00:00:00.000000000",
          "2024-10-07T00:00:00.000000000",
          "2024-10-08T00:00:00.000000000",
          "2024-10-09T00:00:00.000000000",
          "2024-10-10T00:00:00.000000000",
          "2024-10-11T00:00:00.000000000",
          "2024-10-14T00:00:00.000000000",
          "2024-10-15T00:00:00.000000000",
          "2024-10-16T00:00:00.000000000",
          "2024-10-17T00:00:00.000000000",
          "2024-10-18T00:00:00.000000000",
          "2024-10-21T00:00:00.000000000",
          "2024-10-22T00:00:00.000000000",
          "2024-10-23T00:00:00.000000000",
          "2024-10-24T00:00:00.000000000",
          "2024-10-25T00:00:00.000000000",
          "2024-10-28T00:00:00.000000000",
          "2024-10-29T00:00:00.000000000",
          "2024-10-30T00:00:00.000000000",
          "2024-10-31T00:00:00.000000000",
          "2024-11-01T00:00:00.000000000",
          "2024-11-04T00:00:00.000000000",
          "2024-11-05T00:00:00.000000000",
          "2024-11-06T00:00:00.000000000",
          "2024-11-07T00:00:00.000000000",
          "2024-11-08T00:00:00.000000000",
          "2024-11-11T00:00:00.000000000",
          "2024-11-12T00:00:00.000000000",
          "2024-11-13T00:00:00.000000000",
          "2024-11-14T00:00:00.000000000",
          "2024-11-15T00:00:00.000000000",
          "2024-11-18T00:00:00.000000000",
          "2024-11-19T00:00:00.000000000",
          "2024-11-20T00:00:00.000000000",
          "2024-11-21T00:00:00.000000000",
          "2024-11-22T00:00:00.000000000",
          "2024-11-25T00:00:00.000000000",
          "2024-11-26T00:00:00.000000000",
          "2024-11-27T00:00:00.000000000",
          "2024-11-29T00:00:00.000000000",
          "2024-12-02T00:00:00.000000000",
          "2024-12-03T00:00:00.000000000",
          "2024-12-04T00:00:00.000000000",
          "2024-12-05T00:00:00.000000000",
          "2024-12-06T00:00:00.000000000",
          "2024-12-09T00:00:00.000000000",
          "2024-12-10T00:00:00.000000000",
          "2024-12-11T00:00:00.000000000",
          "2024-12-12T00:00:00.000000000",
          "2024-12-13T00:00:00.000000000",
          "2024-12-16T00:00:00.000000000",
          "2024-12-17T00:00:00.000000000",
          "2024-12-18T00:00:00.000000000",
          "2024-12-19T00:00:00.000000000",
          "2024-12-20T00:00:00.000000000",
          "2024-12-23T00:00:00.000000000",
          "2024-12-24T00:00:00.000000000",
          "2024-12-26T00:00:00.000000000",
          "2024-12-27T00:00:00.000000000",
          "2024-12-30T00:00:00.000000000",
          "2024-12-31T00:00:00.000000000",
          "2025-01-02T00:00:00.000000000",
          "2025-01-03T00:00:00.000000000",
          "2025-01-06T00:00:00.000000000",
          "2025-01-07T00:00:00.000000000",
          "2025-01-08T00:00:00.000000000",
          "2025-01-10T00:00:00.000000000",
          "2025-01-13T00:00:00.000000000",
          "2025-01-14T00:00:00.000000000",
          "2025-01-15T00:00:00.000000000",
          "2025-01-16T00:00:00.000000000",
          "2025-01-17T00:00:00.000000000",
          "2025-01-21T00:00:00.000000000",
          "2025-01-22T00:00:00.000000000",
          "2025-01-23T00:00:00.000000000",
          "2025-01-24T00:00:00.000000000",
          "2025-01-27T00:00:00.000000000",
          "2025-01-28T00:00:00.000000000",
          "2025-01-29T00:00:00.000000000",
          "2025-01-30T00:00:00.000000000",
          "2025-01-31T00:00:00.000000000",
          "2025-02-03T00:00:00.000000000",
          "2025-02-04T00:00:00.000000000",
          "2025-02-05T00:00:00.000000000",
          "2025-02-06T00:00:00.000000000",
          "2025-02-07T00:00:00.000000000",
          "2025-02-10T00:00:00.000000000",
          "2025-02-11T00:00:00.000000000",
          "2025-02-12T00:00:00.000000000",
          "2025-02-13T00:00:00.000000000",
          "2025-02-14T00:00:00.000000000",
          "2025-02-18T00:00:00.000000000",
          "2025-02-19T00:00:00.000000000",
          "2025-02-20T00:00:00.000000000",
          "2025-02-21T00:00:00.000000000",
          "2025-02-24T00:00:00.000000000",
          "2025-02-25T00:00:00.000000000",
          "2025-02-26T00:00:00.000000000",
          "2025-02-27T00:00:00.000000000",
          "2025-02-28T00:00:00.000000000",
          "2025-03-03T00:00:00.000000000",
          "2025-03-04T00:00:00.000000000",
          "2025-03-05T00:00:00.000000000",
          "2025-03-06T00:00:00.000000000",
          "2025-03-07T00:00:00.000000000",
          "2025-03-10T00:00:00.000000000",
          "2025-03-11T00:00:00.000000000",
          "2025-03-12T00:00:00.000000000",
          "2025-03-13T00:00:00.000000000",
          "2025-03-14T00:00:00.000000000",
          "2025-03-17T00:00:00.000000000",
          "2025-03-18T00:00:00.000000000",
          "2025-03-19T00:00:00.000000000",
          "2025-03-20T00:00:00.000000000",
          "2025-03-21T00:00:00.000000000",
          "2025-03-24T00:00:00.000000000",
          "2025-03-25T00:00:00.000000000",
          "2025-03-26T00:00:00.000000000",
          "2025-03-27T00:00:00.000000000",
          "2025-03-28T00:00:00.000000000",
          "2025-03-31T00:00:00.000000000",
          "2025-04-01T00:00:00.000000000",
          "2025-04-02T00:00:00.000000000",
          "2025-04-03T00:00:00.000000000",
          "2025-04-04T00:00:00.000000000",
          "2025-04-07T00:00:00.000000000",
          "2025-04-08T00:00:00.000000000",
          "2025-04-09T00:00:00.000000000",
          "2025-04-10T00:00:00.000000000",
          "2025-04-11T00:00:00.000000000",
          "2025-04-14T00:00:00.000000000",
          "2025-04-15T00:00:00.000000000",
          "2025-04-16T00:00:00.000000000",
          "2025-04-17T00:00:00.000000000",
          "2025-04-21T00:00:00.000000000",
          "2025-04-22T00:00:00.000000000",
          "2025-04-23T00:00:00.000000000",
          "2025-04-24T00:00:00.000000000",
          "2025-04-25T00:00:00.000000000",
          "2025-04-28T00:00:00.000000000",
          "2025-04-29T00:00:00.000000000",
          "2025-04-30T00:00:00.000000000",
          "2025-05-01T00:00:00.000000000",
          "2025-05-02T00:00:00.000000000",
          "2025-05-05T00:00:00.000000000",
          "2025-05-06T00:00:00.000000000",
          "2025-05-07T00:00:00.000000000",
          "2025-05-08T00:00:00.000000000",
          "2025-05-09T00:00:00.000000000"
         ],
         "xaxis": "x",
         "y": {
          "bdata": "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",
          "dtype": "f8"
         },
         "yaxis": "y"
        },
        {
         "hovertemplate": "variable=MA_50 for 50 days<br>Date=%{x}<br>value=%{y}<extra></extra>",
         "legendgroup": "MA_50 for 50 days",
         "line": {
          "color": "#ab63fa",
          "dash": "solid"
         },
         "marker": {
          "symbol": "circle"
         },
         "mode": "lines",
         "name": "MA_50 for 50 days",
         "showlegend": true,
         "type": "scattergl",
         "x": [
          "2024-05-09T00:00:00.000000000",
          "2024-05-10T00:00:00.000000000",
          "2024-05-13T00:00:00.000000000",
          "2024-05-14T00:00:00.000000000",
          "2024-05-15T00:00:00.000000000",
          "2024-05-16T00:00:00.000000000",
          "2024-05-17T00:00:00.000000000",
          "2024-05-20T00:00:00.000000000",
          "2024-05-21T00:00:00.000000000",
          "2024-05-22T00:00:00.000000000",
          "2024-05-23T00:00:00.000000000",
          "2024-05-24T00:00:00.000000000",
          "2024-05-28T00:00:00.000000000",
          "2024-05-29T00:00:00.000000000",
          "2024-05-30T00:00:00.000000000",
          "2024-05-31T00:00:00.000000000",
          "2024-06-03T00:00:00.000000000",
          "2024-06-04T00:00:00.000000000",
          "2024-06-05T00:00:00.000000000",
          "2024-06-06T00:00:00.000000000",
          "2024-06-07T00:00:00.000000000",
          "2024-06-10T00:00:00.000000000",
          "2024-06-11T00:00:00.000000000",
          "2024-06-12T00:00:00.000000000",
          "2024-06-13T00:00:00.000000000",
          "2024-06-14T00:00:00.000000000",
          "2024-06-17T00:00:00.000000000",
          "2024-06-18T00:00:00.000000000",
          "2024-06-20T00:00:00.000000000",
          "2024-06-21T00:00:00.000000000",
          "2024-06-24T00:00:00.000000000",
          "2024-06-25T00:00:00.000000000",
          "2024-06-26T00:00:00.000000000",
          "2024-06-27T00:00:00.000000000",
          "2024-06-28T00:00:00.000000000",
          "2024-07-01T00:00:00.000000000",
          "2024-07-02T00:00:00.000000000",
          "2024-07-03T00:00:00.000000000",
          "2024-07-05T00:00:00.000000000",
          "2024-07-08T00:00:00.000000000",
          "2024-07-09T00:00:00.000000000",
          "2024-07-10T00:00:00.000000000",
          "2024-07-11T00:00:00.000000000",
          "2024-07-12T00:00:00.000000000",
          "2024-07-15T00:00:00.000000000",
          "2024-07-16T00:00:00.000000000",
          "2024-07-17T00:00:00.000000000",
          "2024-07-18T00:00:00.000000000",
          "2024-07-19T00:00:00.000000000",
          "2024-07-22T00:00:00.000000000",
          "2024-07-23T00:00:00.000000000",
          "2024-07-24T00:00:00.000000000",
          "2024-07-25T00:00:00.000000000",
          "2024-07-26T00:00:00.000000000",
          "2024-07-29T00:00:00.000000000",
          "2024-07-30T00:00:00.000000000",
          "2024-07-31T00:00:00.000000000",
          "2024-08-01T00:00:00.000000000",
          "2024-08-02T00:00:00.000000000",
          "2024-08-05T00:00:00.000000000",
          "2024-08-06T00:00:00.000000000",
          "2024-08-07T00:00:00.000000000",
          "2024-08-08T00:00:00.000000000",
          "2024-08-09T00:00:00.000000000",
          "2024-08-12T00:00:00.000000000",
          "2024-08-13T00:00:00.000000000",
          "2024-08-14T00:00:00.000000000",
          "2024-08-15T00:00:00.000000000",
          "2024-08-16T00:00:00.000000000",
          "2024-08-19T00:00:00.000000000",
          "2024-08-20T00:00:00.000000000",
          "2024-08-21T00:00:00.000000000",
          "2024-08-22T00:00:00.000000000",
          "2024-08-23T00:00:00.000000000",
          "2024-08-26T00:00:00.000000000",
          "2024-08-27T00:00:00.000000000",
          "2024-08-28T00:00:00.000000000",
          "2024-08-29T00:00:00.000000000",
          "2024-08-30T00:00:00.000000000",
          "2024-09-03T00:00:00.000000000",
          "2024-09-04T00:00:00.000000000",
          "2024-09-05T00:00:00.000000000",
          "2024-09-06T00:00:00.000000000",
          "2024-09-09T00:00:00.000000000",
          "2024-09-10T00:00:00.000000000",
          "2024-09-11T00:00:00.000000000",
          "2024-09-12T00:00:00.000000000",
          "2024-09-13T00:00:00.000000000",
          "2024-09-16T00:00:00.000000000",
          "2024-09-17T00:00:00.000000000",
          "2024-09-18T00:00:00.000000000",
          "2024-09-19T00:00:00.000000000",
          "2024-09-20T00:00:00.000000000",
          "2024-09-23T00:00:00.000000000",
          "2024-09-24T00:00:00.000000000",
          "2024-09-25T00:00:00.000000000",
          "2024-09-26T00:00:00.000000000",
          "2024-09-27T00:00:00.000000000",
          "2024-09-30T00:00:00.000000000",
          "2024-10-01T00:00:00.000000000",
          "2024-10-02T00:00:00.000000000",
          "2024-10-03T00:00:00.000000000",
          "2024-10-04T00:00:00.000000000",
          "2024-10-07T00:00:00.000000000",
          "2024-10-08T00:00:00.000000000",
          "2024-10-09T00:00:00.000000000",
          "2024-10-10T00:00:00.000000000",
          "2024-10-11T00:00:00.000000000",
          "2024-10-14T00:00:00.000000000",
          "2024-10-15T00:00:00.000000000",
          "2024-10-16T00:00:00.000000000",
          "2024-10-17T00:00:00.000000000",
          "2024-10-18T00:00:00.000000000",
          "2024-10-21T00:00:00.000000000",
          "2024-10-22T00:00:00.000000000",
          "2024-10-23T00:00:00.000000000",
          "2024-10-24T00:00:00.000000000",
          "2024-10-25T00:00:00.000000000",
          "2024-10-28T00:00:00.000000000",
          "2024-10-29T00:00:00.000000000",
          "2024-10-30T00:00:00.000000000",
          "2024-10-31T00:00:00.000000000",
          "2024-11-01T00:00:00.000000000",
          "2024-11-04T00:00:00.000000000",
          "2024-11-05T00:00:00.000000000",
          "2024-11-06T00:00:00.000000000",
          "2024-11-07T00:00:00.000000000",
          "2024-11-08T00:00:00.000000000",
          "2024-11-11T00:00:00.000000000",
          "2024-11-12T00:00:00.000000000",
          "2024-11-13T00:00:00.000000000",
          "2024-11-14T00:00:00.000000000",
          "2024-11-15T00:00:00.000000000",
          "2024-11-18T00:00:00.000000000",
          "2024-11-19T00:00:00.000000000",
          "2024-11-20T00:00:00.000000000",
          "2024-11-21T00:00:00.000000000",
          "2024-11-22T00:00:00.000000000",
          "2024-11-25T00:00:00.000000000",
          "2024-11-26T00:00:00.000000000",
          "2024-11-27T00:00:00.000000000",
          "2024-11-29T00:00:00.000000000",
          "2024-12-02T00:00:00.000000000",
          "2024-12-03T00:00:00.000000000",
          "2024-12-04T00:00:00.000000000",
          "2024-12-05T00:00:00.000000000",
          "2024-12-06T00:00:00.000000000",
          "2024-12-09T00:00:00.000000000",
          "2024-12-10T00:00:00.000000000",
          "2024-12-11T00:00:00.000000000",
          "2024-12-12T00:00:00.000000000",
          "2024-12-13T00:00:00.000000000",
          "2024-12-16T00:00:00.000000000",
          "2024-12-17T00:00:00.000000000",
          "2024-12-18T00:00:00.000000000",
          "2024-12-19T00:00:00.000000000",
          "2024-12-20T00:00:00.000000000",
          "2024-12-23T00:00:00.000000000",
          "2024-12-24T00:00:00.000000000",
          "2024-12-26T00:00:00.000000000",
          "2024-12-27T00:00:00.000000000",
          "2024-12-30T00:00:00.000000000",
          "2024-12-31T00:00:00.000000000",
          "2025-01-02T00:00:00.000000000",
          "2025-01-03T00:00:00.000000000",
          "2025-01-06T00:00:00.000000000",
          "2025-01-07T00:00:00.000000000",
          "2025-01-08T00:00:00.000000000",
          "2025-01-10T00:00:00.000000000",
          "2025-01-13T00:00:00.000000000",
          "2025-01-14T00:00:00.000000000",
          "2025-01-15T00:00:00.000000000",
          "2025-01-16T00:00:00.000000000",
          "2025-01-17T00:00:00.000000000",
          "2025-01-21T00:00:00.000000000",
          "2025-01-22T00:00:00.000000000",
          "2025-01-23T00:00:00.000000000",
          "2025-01-24T00:00:00.000000000",
          "2025-01-27T00:00:00.000000000",
          "2025-01-28T00:00:00.000000000",
          "2025-01-29T00:00:00.000000000",
          "2025-01-30T00:00:00.000000000",
          "2025-01-31T00:00:00.000000000",
          "2025-02-03T00:00:00.000000000",
          "2025-02-04T00:00:00.000000000",
          "2025-02-05T00:00:00.000000000",
          "2025-02-06T00:00:00.000000000",
          "2025-02-07T00:00:00.000000000",
          "2025-02-10T00:00:00.000000000",
          "2025-02-11T00:00:00.000000000",
          "2025-02-12T00:00:00.000000000",
          "2025-02-13T00:00:00.000000000",
          "2025-02-14T00:00:00.000000000",
          "2025-02-18T00:00:00.000000000",
          "2025-02-19T00:00:00.000000000",
          "2025-02-20T00:00:00.000000000",
          "2025-02-21T00:00:00.000000000",
          "2025-02-24T00:00:00.000000000",
          "2025-02-25T00:00:00.000000000",
          "2025-02-26T00:00:00.000000000",
          "2025-02-27T00:00:00.000000000",
          "2025-02-28T00:00:00.000000000",
          "2025-03-03T00:00:00.000000000",
          "2025-03-04T00:00:00.000000000",
          "2025-03-05T00:00:00.000000000",
          "2025-03-06T00:00:00.000000000",
          "2025-03-07T00:00:00.000000000",
          "2025-03-10T00:00:00.000000000",
          "2025-03-11T00:00:00.000000000",
          "2025-03-12T00:00:00.000000000",
          "2025-03-13T00:00:00.000000000",
          "2025-03-14T00:00:00.000000000",
          "2025-03-17T00:00:00.000000000",
          "2025-03-18T00:00:00.000000000",
          "2025-03-19T00:00:00.000000000",
          "2025-03-20T00:00:00.000000000",
          "2025-03-21T00:00:00.000000000",
          "2025-03-24T00:00:00.000000000",
          "2025-03-25T00:00:00.000000000",
          "2025-03-26T00:00:00.000000000",
          "2025-03-27T00:00:00.000000000",
          "2025-03-28T00:00:00.000000000",
          "2025-03-31T00:00:00.000000000",
          "2025-04-01T00:00:00.000000000",
          "2025-04-02T00:00:00.000000000",
          "2025-04-03T00:00:00.000000000",
          "2025-04-04T00:00:00.000000000",
          "2025-04-07T00:00:00.000000000",
          "2025-04-08T00:00:00.000000000",
          "2025-04-09T00:00:00.000000000",
          "2025-04-10T00:00:00.000000000",
          "2025-04-11T00:00:00.000000000",
          "2025-04-14T00:00:00.000000000",
          "2025-04-15T00:00:00.000000000",
          "2025-04-16T00:00:00.000000000",
          "2025-04-17T00:00:00.000000000",
          "2025-04-21T00:00:00.000000000",
          "2025-04-22T00:00:00.000000000",
          "2025-04-23T00:00:00.000000000",
          "2025-04-24T00:00:00.000000000",
          "2025-04-25T00:00:00.000000000",
          "2025-04-28T00:00:00.000000000",
          "2025-04-29T00:00:00.000000000",
          "2025-04-30T00:00:00.000000000",
          "2025-05-01T00:00:00.000000000",
          "2025-05-02T00:00:00.000000000",
          "2025-05-05T00:00:00.000000000",
          "2025-05-06T00:00:00.000000000",
          "2025-05-07T00:00:00.000000000",
          "2025-05-08T00:00:00.000000000",
          "2025-05-09T00:00:00.000000000"
         ],
         "xaxis": "x",
         "y": {
          "bdata": "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",
          "dtype": "f8"
         },
         "yaxis": "y"
        }
       ],
       "layout": {
        "legend": {
         "title": {
          "text": "Legend"
         },
         "tracegroupgap": 0
        },
        "template": {
         "data": {
          "bar": [
           {
            "error_x": {
             "color": "#2a3f5f"
            },
            "error_y": {
             "color": "#2a3f5f"
            },
            "marker": {
             "line": {
              "color": "#E5ECF6",
              "width": 0.5
             },
             "pattern": {
              "fillmode": "overlay",
              "size": 10,
              "solidity": 0.2
             }
            },
            "type": "bar"
           }
          ],
          "barpolar": [
           {
            "marker": {
             "line": {
              "color": "#E5ECF6",
              "width": 0.5
             },
             "pattern": {
              "fillmode": "overlay",
              "size": 10,
              "solidity": 0.2
             }
            },
            "type": "barpolar"
           }
          ],
          "carpet": [
           {
            "aaxis": {
             "endlinecolor": "#2a3f5f",
             "gridcolor": "white",
             "linecolor": "white",
             "minorgridcolor": "white",
             "startlinecolor": "#2a3f5f"
            },
            "baxis": {
             "endlinecolor": "#2a3f5f",
             "gridcolor": "white",
             "linecolor": "white",
             "minorgridcolor": "white",
             "startlinecolor": "#2a3f5f"
            },
            "type": "carpet"
           }
          ],
          "choropleth": [
           {
            "colorbar": {
             "outlinewidth": 0,
             "ticks": ""
            },
            "type": "choropleth"
           }
          ],
          "contour": [
           {
            "colorbar": {
             "outlinewidth": 0,
             "ticks": ""
            },
            "colorscale": [
             [
              0,
              "#0d0887"
             ],
             [
              0.1111111111111111,
              "#46039f"
             ],
             [
              0.2222222222222222,
              "#7201a8"
             ],
             [
              0.3333333333333333,
              "#9c179e"
             ],
             [
              0.4444444444444444,
              "#bd3786"
             ],
             [
              0.5555555555555556,
              "#d8576b"
             ],
             [
              0.6666666666666666,
              "#ed7953"
             ],
             [
              0.7777777777777778,
              "#fb9f3a"
             ],
             [
              0.8888888888888888,
              "#fdca26"
             ],
             [
              1,
              "#f0f921"
             ]
            ],
            "type": "contour"
           }
          ],
          "contourcarpet": [
           {
            "colorbar": {
             "outlinewidth": 0,
             "ticks": ""
            },
            "type": "contourcarpet"
           }
          ],
          "heatmap": [
           {
            "colorbar": {
             "outlinewidth": 0,
             "ticks": ""
            },
            "colorscale": [
             [
              0,
              "#0d0887"
             ],
             [
              0.1111111111111111,
              "#46039f"
             ],
             [
              0.2222222222222222,
              "#7201a8"
             ],
             [
              0.3333333333333333,
              "#9c179e"
             ],
             [
              0.4444444444444444,
              "#bd3786"
             ],
             [
              0.5555555555555556,
              "#d8576b"
             ],
             [
              0.6666666666666666,
              "#ed7953"
             ],
             [
              0.7777777777777778,
              "#fb9f3a"
             ],
             [
              0.8888888888888888,
              "#fdca26"
             ],
             [
              1,
              "#f0f921"
             ]
            ],
            "type": "heatmap"
           }
          ],
          "histogram": [
           {
            "marker": {
             "pattern": {
              "fillmode": "overlay",
              "size": 10,
              "solidity": 0.2
             }
            },
            "type": "histogram"
           }
          ],
          "histogram2d": [
           {
            "colorbar": {
             "outlinewidth": 0,
             "ticks": ""
            },
            "colorscale": [
             [
              0,
              "#0d0887"
             ],
             [
              0.1111111111111111,
              "#46039f"
             ],
             [
              0.2222222222222222,
              "#7201a8"
             ],
             [
              0.3333333333333333,
              "#9c179e"
             ],
             [
              0.4444444444444444,
              "#bd3786"
             ],
             [
              0.5555555555555556,
              "#d8576b"
             ],
             [
              0.6666666666666666,
              "#ed7953"
             ],
             [
              0.7777777777777778,
              "#fb9f3a"
             ],
             [
              0.8888888888888888,
              "#fdca26"
             ],
             [
              1,
              "#f0f921"
             ]
            ],
            "type": "histogram2d"
           }
          ],
          "histogram2dcontour": [
           {
            "colorbar": {
             "outlinewidth": 0,
             "ticks": ""
            },
            "colorscale": [
             [
              0,
              "#0d0887"
             ],
             [
              0.1111111111111111,
              "#46039f"
             ],
             [
              0.2222222222222222,
              "#7201a8"
             ],
             [
              0.3333333333333333,
              "#9c179e"
             ],
             [
              0.4444444444444444,
              "#bd3786"
             ],
             [
              0.5555555555555556,
              "#d8576b"
             ],
             [
              0.6666666666666666,
              "#ed7953"
             ],
             [
              0.7777777777777778,
              "#fb9f3a"
             ],
             [
              0.8888888888888888,
              "#fdca26"
             ],
             [
              1,
              "#f0f921"
             ]
            ],
            "type": "histogram2dcontour"
           }
          ],
          "mesh3d": [
           {
            "colorbar": {
             "outlinewidth": 0,
             "ticks": ""
            },
            "type": "mesh3d"
           }
          ],
          "parcoords": [
           {
            "line": {
             "colorbar": {
              "outlinewidth": 0,
              "ticks": ""
             }
            },
            "type": "parcoords"
           }
          ],
          "pie": [
           {
            "automargin": true,
            "type": "pie"
           }
          ],
          "scatter": [
           {
            "fillpattern": {
             "fillmode": "overlay",
             "size": 10,
             "solidity": 0.2
            },
            "type": "scatter"
           }
          ],
          "scatter3d": [
           {
            "line": {
             "colorbar": {
              "outlinewidth": 0,
              "ticks": ""
             }
            },
            "marker": {
             "colorbar": {
              "outlinewidth": 0,
              "ticks": ""
             }
            },
            "type": "scatter3d"
           }
          ],
          "scattercarpet": [
           {
            "marker": {
             "colorbar": {
              "outlinewidth": 0,
              "ticks": ""
             }
            },
            "type": "scattercarpet"
           }
          ],
          "scattergeo": [
           {
            "marker": {
             "colorbar": {
              "outlinewidth": 0,
              "ticks": ""
             }
            },
            "type": "scattergeo"
           }
          ],
          "scattergl": [
           {
            "marker": {
             "colorbar": {
              "outlinewidth": 0,
              "ticks": ""
             }
            },
            "type": "scattergl"
           }
          ],
          "scattermap": [
           {
            "marker": {
             "colorbar": {
              "outlinewidth": 0,
              "ticks": ""
             }
            },
            "type": "scattermap"
           }
          ],
          "scattermapbox": [
           {
            "marker": {
             "colorbar": {
              "outlinewidth": 0,
              "ticks": ""
             }
            },
            "type": "scattermapbox"
           }
          ],
          "scatterpolar": [
           {
            "marker": {
             "colorbar": {
              "outlinewidth": 0,
              "ticks": ""
             }
            },
            "type": "scatterpolar"
           }
          ],
          "scatterpolargl": [
           {
            "marker": {
             "colorbar": {
              "outlinewidth": 0,
              "ticks": ""
             }
            },
            "type": "scatterpolargl"
           }
          ],
          "scatterternary": [
           {
            "marker": {
             "colorbar": {
              "outlinewidth": 0,
              "ticks": ""
             }
            },
            "type": "scatterternary"
           }
          ],
          "surface": [
           {
            "colorbar": {
             "outlinewidth": 0,
             "ticks": ""
            },
            "colorscale": [
             [
              0,
              "#0d0887"
             ],
             [
              0.1111111111111111,
              "#46039f"
             ],
             [
              0.2222222222222222,
              "#7201a8"
             ],
             [
              0.3333333333333333,
              "#9c179e"
             ],
             [
              0.4444444444444444,
              "#bd3786"
             ],
             [
              0.5555555555555556,
              "#d8576b"
             ],
             [
              0.6666666666666666,
              "#ed7953"
             ],
             [
              0.7777777777777778,
              "#fb9f3a"
             ],
             [
              0.8888888888888888,
              "#fdca26"
             ],
             [
              1,
              "#f0f921"
             ]
            ],
            "type": "surface"
           }
          ],
          "table": [
           {
            "cells": {
             "fill": {
              "color": "#EBF0F8"
             },
             "line": {
              "color": "white"
             }
            },
            "header": {
             "fill": {
              "color": "#C8D4E3"
             },
             "line": {
              "color": "white"
             }
            },
            "type": "table"
           }
          ]
         },
         "layout": {
          "annotationdefaults": {
           "arrowcolor": "#2a3f5f",
           "arrowhead": 0,
           "arrowwidth": 1
          },
          "autotypenumbers": "strict",
          "coloraxis": {
           "colorbar": {
            "outlinewidth": 0,
            "ticks": ""
           }
          },
          "colorscale": {
           "diverging": [
            [
             0,
             "#8e0152"
            ],
            [
             0.1,
             "#c51b7d"
            ],
            [
             0.2,
             "#de77ae"
            ],
            [
             0.3,
             "#f1b6da"
            ],
            [
             0.4,
             "#fde0ef"
            ],
            [
             0.5,
             "#f7f7f7"
            ],
            [
             0.6,
             "#e6f5d0"
            ],
            [
             0.7,
             "#b8e186"
            ],
            [
             0.8,
             "#7fbc41"
            ],
            [
             0.9,
             "#4d9221"
            ],
            [
             1,
             "#276419"
            ]
           ],
           "sequential": [
            [
             0,
             "#0d0887"
            ],
            [
             0.1111111111111111,
             "#46039f"
            ],
            [
             0.2222222222222222,
             "#7201a8"
            ],
            [
             0.3333333333333333,
             "#9c179e"
            ],
            [
             0.4444444444444444,
             "#bd3786"
            ],
            [
             0.5555555555555556,
             "#d8576b"
            ],
            [
             0.6666666666666666,
             "#ed7953"
            ],
            [
             0.7777777777777778,
             "#fb9f3a"
            ],
            [
             0.8888888888888888,
             "#fdca26"
            ],
            [
             1,
             "#f0f921"
            ]
           ],
           "sequentialminus": [
            [
             0,
             "#0d0887"
            ],
            [
             0.1111111111111111,
             "#46039f"
            ],
            [
             0.2222222222222222,
             "#7201a8"
            ],
            [
             0.3333333333333333,
             "#9c179e"
            ],
            [
             0.4444444444444444,
             "#bd3786"
            ],
            [
             0.5555555555555556,
             "#d8576b"
            ],
            [
             0.6666666666666666,
             "#ed7953"
            ],
            [
             0.7777777777777778,
             "#fb9f3a"
            ],
            [
             0.8888888888888888,
             "#fdca26"
            ],
            [
             1,
             "#f0f921"
            ]
           ]
          },
          "colorway": [
           "#636efa",
           "#EF553B",
           "#00cc96",
           "#ab63fa",
           "#FFA15A",
           "#19d3f3",
           "#FF6692",
           "#B6E880",
           "#FF97FF",
           "#FECB52"
          ],
          "font": {
           "color": "#2a3f5f"
          },
          "geo": {
           "bgcolor": "white",
           "lakecolor": "white",
           "landcolor": "#E5ECF6",
           "showlakes": true,
           "showland": true,
           "subunitcolor": "white"
          },
          "hoverlabel": {
           "align": "left"
          },
          "hovermode": "closest",
          "mapbox": {
           "style": "light"
          },
          "paper_bgcolor": "white",
          "plot_bgcolor": "#E5ECF6",
          "polar": {
           "angularaxis": {
            "gridcolor": "white",
            "linecolor": "white",
            "ticks": ""
           },
           "bgcolor": "#E5ECF6",
           "radialaxis": {
            "gridcolor": "white",
            "linecolor": "white",
            "ticks": ""
           }
          },
          "scene": {
           "xaxis": {
            "backgroundcolor": "#E5ECF6",
            "gridcolor": "white",
            "gridwidth": 2,
            "linecolor": "white",
            "showbackground": true,
            "ticks": "",
            "zerolinecolor": "white"
           },
           "yaxis": {
            "backgroundcolor": "#E5ECF6",
            "gridcolor": "white",
            "gridwidth": 2,
            "linecolor": "white",
            "showbackground": true,
            "ticks": "",
            "zerolinecolor": "white"
           },
           "zaxis": {
            "backgroundcolor": "#E5ECF6",
            "gridcolor": "white",
            "gridwidth": 2,
            "linecolor": "white",
            "showbackground": true,
            "ticks": "",
            "zerolinecolor": "white"
           }
          },
          "shapedefaults": {
           "line": {
            "color": "#2a3f5f"
           }
          },
          "ternary": {
           "aaxis": {
            "gridcolor": "white",
            "linecolor": "white",
            "ticks": ""
           },
           "baxis": {
            "gridcolor": "white",
            "linecolor": "white",
            "ticks": ""
           },
           "bgcolor": "#E5ECF6",
           "caxis": {
            "gridcolor": "white",
            "linecolor": "white",
            "ticks": ""
           }
          },
          "title": {
           "x": 0.05
          },
          "xaxis": {
           "automargin": true,
           "gridcolor": "white",
           "linecolor": "white",
           "ticks": "",
           "title": {
            "standoff": 15
           },
           "zerolinecolor": "white",
           "zerolinewidth": 2
          },
          "yaxis": {
           "automargin": true,
           "gridcolor": "white",
           "linecolor": "white",
           "ticks": "",
           "title": {
            "standoff": 15
           },
           "zerolinecolor": "white",
           "zerolinewidth": 2
          }
         }
        },
        "title": {
         "text": "Apple Stock Data with Moving Averages"
        },
        "xaxis": {
         "anchor": "y",
         "domain": [
          0,
          1
         ],
         "title": {
          "text": "Date"
         }
        },
        "yaxis": {
         "anchor": "x",
         "domain": [
          0,
          1
         ],
         "title": {
          "text": "Price"
         }
        }
       }
      }
     },
     "metadata": {},
     "output_type": "display_data"
    }
   ],
   "source": [
    "data.columns = [' '.join(col).strip() if isinstance(col, tuple) else col for col in data.columns]\n",
    "fig = px.line(\n",
    "    data,\n",
    "    x=data.index,\n",
    "    y=[\"Close AAPL\", \"MA_10 for 10 days\", \"MA_20 for 20 days\", \"MA_50 for 50 days\"],\n",
    "    title=\"Apple Stock Data with Moving Averages\"\n",
    ")\n",
    "fig.update_layout(\n",
    "    xaxis_title=\"Date\",\n",
    "    yaxis_title=\"Price\",\n",
    "    legend_title=\"Legend\"\n",
    ")\n",
    "fig.show()"
   ]
  },
  {
   "cell_type": "code",
   "execution_count": null,
   "id": "b989f491",
   "metadata": {},
   "outputs": [],
   "source": []
  },
  {
   "cell_type": "code",
   "execution_count": 27,
   "id": "ee6d4af7",
   "metadata": {},
   "outputs": [
    {
     "data": {
      "text/plain": [
       "Price              Ticker\n",
       "Close              AAPL        0\n",
       "High               AAPL        0\n",
       "Low                AAPL        0\n",
       "Open               AAPL        0\n",
       "Volume             AAPL        0\n",
       "MA_10 for 10 days            251\n",
       "MA_20 for 20 days            251\n",
       "MA_50 for 50 days            251\n",
       "dtype: int64"
      ]
     },
     "execution_count": 27,
     "metadata": {},
     "output_type": "execute_result"
    }
   ],
   "source": [
    "# Check for missing values\n",
    "data.isnull().sum()"
   ]
  },
  {
   "cell_type": "code",
   "execution_count": 28,
   "id": "044d6abe",
   "metadata": {},
   "outputs": [],
   "source": [
    "# Normalize the data\n",
    "scaler = MinMaxScaler(feature_range=(0, 1))\n",
    "scaled_data = scaler.fit_transform(data[['Close']])"
   ]
  },
  {
   "cell_type": "code",
   "execution_count": 29,
   "id": "89b33e81",
   "metadata": {},
   "outputs": [],
   "source": [
    "# Split the data into training and testing sets\n",
    "train_size = int(len(scaled_data) * 0.8)\n",
    "train_data = scaled_data[:train_size]\n",
    "test_data = scaled_data[train_size:]"
   ]
  },
  {
   "cell_type": "code",
   "execution_count": 30,
   "id": "94810933",
   "metadata": {},
   "outputs": [],
   "source": [
    "# Create sequences for LSTM\n",
    "sequence_length = 60\n",
    "generator = TimeseriesGenerator(train_data, train_data, length=sequence_length, batch_size=32)"
   ]
  },
  {
   "cell_type": "code",
   "execution_count": 31,
   "id": "218b0b3d",
   "metadata": {},
   "outputs": [],
   "source": [
    "# Define the LSTM model\n",
    "model = Sequential([\n",
    "    LSTM(50, return_sequences=True, input_shape=(sequence_length, 1)),\n",
    "    LSTM(50, return_sequences=False),\n",
    "    Dense(25),\n",
    "    Dense(1)\n",
    "])\n",
    "model.compile(optimizer='adam', loss='mean_squared_error')"
   ]
  },
  {
   "cell_type": "code",
   "execution_count": 32,
   "id": "6126d587",
   "metadata": {},
   "outputs": [
    {
     "name": "stdout",
     "output_type": "stream",
     "text": [
      "Epoch 1/10\n",
      "\u001b[1m5/5\u001b[0m \u001b[32m━━━━━━━━━━━━━━━━━━━━\u001b[0m\u001b[37m\u001b[0m \u001b[1m7s\u001b[0m 67ms/step - loss: 0.2791\n",
      "Epoch 2/10\n",
      "\u001b[1m5/5\u001b[0m \u001b[32m━━━━━━━━━━━━━━━━━━━━\u001b[0m\u001b[37m\u001b[0m \u001b[1m0s\u001b[0m 49ms/step - loss: 0.0325\n",
      "Epoch 3/10\n",
      "\u001b[1m5/5\u001b[0m \u001b[32m━━━━━━━━━━━━━━━━━━━━\u001b[0m\u001b[37m\u001b[0m \u001b[1m0s\u001b[0m 54ms/step - loss: 0.0528\n",
      "Epoch 4/10\n",
      "\u001b[1m5/5\u001b[0m \u001b[32m━━━━━━━━━━━━━━━━━━━━\u001b[0m\u001b[37m\u001b[0m \u001b[1m0s\u001b[0m 53ms/step - loss: 0.0208\n",
      "Epoch 5/10\n",
      "\u001b[1m5/5\u001b[0m \u001b[32m━━━━━━━━━━━━━━━━━━━━\u001b[0m\u001b[37m\u001b[0m \u001b[1m0s\u001b[0m 51ms/step - loss: 0.0177\n",
      "Epoch 6/10\n",
      "\u001b[1m5/5\u001b[0m \u001b[32m━━━━━━━━━━━━━━━━━━━━\u001b[0m\u001b[37m\u001b[0m \u001b[1m0s\u001b[0m 60ms/step - loss: 0.0099\n",
      "Epoch 7/10\n",
      "\u001b[1m5/5\u001b[0m \u001b[32m━━━━━━━━━━━━━━━━━━━━\u001b[0m\u001b[37m\u001b[0m \u001b[1m0s\u001b[0m 56ms/step - loss: 0.0111\n",
      "Epoch 8/10\n",
      "\u001b[1m5/5\u001b[0m \u001b[32m━━━━━━━━━━━━━━━━━━━━\u001b[0m\u001b[37m\u001b[0m \u001b[1m0s\u001b[0m 58ms/step - loss: 0.0112\n",
      "Epoch 9/10\n",
      "\u001b[1m5/5\u001b[0m \u001b[32m━━━━━━━━━━━━━━━━━━━━\u001b[0m\u001b[37m\u001b[0m \u001b[1m0s\u001b[0m 56ms/step - loss: 0.0066\n",
      "Epoch 10/10\n",
      "\u001b[1m5/5\u001b[0m \u001b[32m━━━━━━━━━━━━━━━━━━━━\u001b[0m\u001b[37m\u001b[0m \u001b[1m0s\u001b[0m 56ms/step - loss: 0.0076\n"
     ]
    },
    {
     "data": {
      "text/plain": [
       "<keras.src.callbacks.history.History at 0x1f495e68cd0>"
      ]
     },
     "execution_count": 32,
     "metadata": {},
     "output_type": "execute_result"
    }
   ],
   "source": [
    "# Train the model\n",
    "model.fit(generator, epochs=10)"
   ]
  },
  {
   "cell_type": "code",
   "execution_count": 33,
   "id": "9f68cb12",
   "metadata": {},
   "outputs": [
    {
     "ename": "ValueError",
     "evalue": "`start_index+length=60 > end_index=50` is disallowed, as no part of the sequence would be left to be used as current step.",
     "output_type": "error",
     "traceback": [
      "\u001b[31m---------------------------------------------------------------------------\u001b[39m",
      "\u001b[31mValueError\u001b[39m                                Traceback (most recent call last)",
      "\u001b[36mCell\u001b[39m\u001b[36m \u001b[39m\u001b[32mIn[33]\u001b[39m\u001b[32m, line 2\u001b[39m\n\u001b[32m      1\u001b[39m \u001b[38;5;66;03m# Evaluate the model\u001b[39;00m\n\u001b[32m----> \u001b[39m\u001b[32m2\u001b[39m test_generator = \u001b[43mTimeseriesGenerator\u001b[49m\u001b[43m(\u001b[49m\u001b[43mtest_data\u001b[49m\u001b[43m,\u001b[49m\u001b[43m \u001b[49m\u001b[43mtest_data\u001b[49m\u001b[43m,\u001b[49m\u001b[43m \u001b[49m\u001b[43mlength\u001b[49m\u001b[43m=\u001b[49m\u001b[43msequence_length\u001b[49m\u001b[43m,\u001b[49m\u001b[43m \u001b[49m\u001b[43mbatch_size\u001b[49m\u001b[43m=\u001b[49m\u001b[32;43m32\u001b[39;49m\u001b[43m)\u001b[49m\n\u001b[32m      3\u001b[39m predictions = model.predict(test_generator)\n",
      "\u001b[36mFile \u001b[39m\u001b[32mc:\\Users\\Darsh\\OneDrive\\Desktop\\data science\\lstm\\lstm\\Lib\\site-packages\\keras\\src\\legacy\\preprocessing\\sequence.py:89\u001b[39m, in \u001b[36mTimeseriesGenerator.__init__\u001b[39m\u001b[34m(self, data, targets, length, sampling_rate, stride, start_index, end_index, shuffle, reverse, batch_size)\u001b[39m\n\u001b[32m     86\u001b[39m \u001b[38;5;28mself\u001b[39m.batch_size = batch_size\n\u001b[32m     88\u001b[39m \u001b[38;5;28;01mif\u001b[39;00m \u001b[38;5;28mself\u001b[39m.start_index > \u001b[38;5;28mself\u001b[39m.end_index:\n\u001b[32m---> \u001b[39m\u001b[32m89\u001b[39m     \u001b[38;5;28;01mraise\u001b[39;00m \u001b[38;5;167;01mValueError\u001b[39;00m(\n\u001b[32m     90\u001b[39m         \u001b[33mf\u001b[39m\u001b[33m\"\u001b[39m\u001b[33m`start_index+length=\u001b[39m\u001b[38;5;132;01m{\u001b[39;00m\u001b[38;5;28mself\u001b[39m.start_index\u001b[38;5;132;01m}\u001b[39;00m\u001b[33m \u001b[39m\u001b[33m\"\u001b[39m\n\u001b[32m     91\u001b[39m         \u001b[33mf\u001b[39m\u001b[33m\"\u001b[39m\u001b[33m> end_index=\u001b[39m\u001b[38;5;132;01m{\u001b[39;00m\u001b[38;5;28mself\u001b[39m.end_index\u001b[38;5;132;01m}\u001b[39;00m\u001b[33m` \u001b[39m\u001b[33m\"\u001b[39m\n\u001b[32m     92\u001b[39m         \u001b[33m\"\u001b[39m\u001b[33mis disallowed, as no part of the sequence \u001b[39m\u001b[33m\"\u001b[39m\n\u001b[32m     93\u001b[39m         \u001b[33m\"\u001b[39m\u001b[33mwould be left to be used as current step.\u001b[39m\u001b[33m\"\u001b[39m\n\u001b[32m     94\u001b[39m     )\n",
      "\u001b[31mValueError\u001b[39m: `start_index+length=60 > end_index=50` is disallowed, as no part of the sequence would be left to be used as current step."
     ]
    }
   ],
   "source": [
    "# Evaluate the model\n",
    "test_generator = TimeseriesGenerator(test_data, test_data, length=sequence_length, batch_size=32)\n",
    "predictions = model.predict(test_generator)"
   ]
  },
  {
   "cell_type": "code",
   "execution_count": null,
   "id": "9c93ccd3",
   "metadata": {},
   "outputs": [],
   "source": [
    "# Visualize predictions\n",
    "plt.figure(figsize=(15,6))\n",
    "plt.plot(test_data[sequence_length:], label=\"Actual\")\n",
    "plt.plot(predictions, label=\"Predicted\")\n",
    "plt.legend()\n",
    "plt.show()"
   ]
  }
 ],
 "metadata": {
  "kernelspec": {
   "display_name": "lstm",
   "language": "python",
   "name": "python3"
  },
  "language_info": {
   "codemirror_mode": {
    "name": "ipython",
    "version": 3
   },
   "file_extension": ".py",
   "mimetype": "text/x-python",
   "name": "python",
   "nbconvert_exporter": "python",
   "pygments_lexer": "ipython3",
   "version": "3.11.9"
  }
 },
 "nbformat": 4,
 "nbformat_minor": 5
}
